{
 "cells": [
  {
   "attachments": {
    "image.png": {
     "image/png": "[encoded data removed]"
    }
   },
   "cell_type": "markdown",
   "metadata": {},
   "source": [
    "<div style=\"width: 80%;\">\n",
    "\n",
    "<img src=\"attachment:image.png\" width=\"500\" style=\"float: left\">\n",
    "<div style=\"clear: both\"></div>\n",
    "<br>\n",
    "\n",
    "<div style=\"font-size: 20pt; float: left;\">Anwendungen der linearen Algebra</div>\n",
    "<div style=\"font-size: 20pt; text-align: right;\">FS 2024</div>\n",
    "<div style=\"font-size: 15pt; margin-top: 10px;\">Fachexperten: Roger Burkhardt, Cédric Huwyler</div>\n",
    "</div>\n",
    "<br>\n",
    "\n",
    "\n",
    "# Mini-Challenge 3 zum Thema *Recommender-Systeme*\n",
    "\n",
    "In der dritten Mini-Challenge befassen wir uns mit einem einfachen Recommender-System, mit dem du dir zu einem Film weitere ähnliche Filme vorschlagen lassen kannst. Sicher hattest du auch schon Abende, wo du Lust hattest einen Film zu schauen, aber keine konkrete Idee hattest. In dieser Minichallenge möchten wir dir dazu mit linearer Algebra etwas Abhilfe schaffen!\n",
    "\n",
    "Als Datenbasis benutzen wir den [kleinen *Movie Lens*-Datensatz](https://grouplens.org/datasets/movielens/) mit nur 610 Nutzer:innen und 9742 Filmen. Er ist das Ergebnis des [Movie Lens](https://movielens.org/)-Projekts, das seit 1997 Film-Bewertungen sammelt. Für die Erstellung von Empfehlung arbeiten wir mit dem einfachen Cosine Similarity-basierten IBCF-Recommender aus dem Skript.\n",
    "\n",
    "Eine kleine Webapplikation, die auf dem Code dieser Minichallenge basiert, findest du auf\n",
    "\n",
    "http://simplemovierecommender.pythonanywhere.com/\n",
    "\n",
    "So musst du nicht immer ein Notebook starten, wenn du eine neue Recommendation brauchst.\n",
    "\n",
    "### Musterlösung\n",
    "\n",
    "Zu dieser Minichallenge existiert (bewusst) keine Musterlösung. Du kannst sie aber gerne zur Durchsicht und Kommentierung uns entweder in einer der Kontaktstunden vorstellen oder zuschicken (cedric.huwyler@fhnw.ch)."
   ]
  },
  {
   "cell_type": "markdown",
   "metadata": {},
   "source": [
    "### Libraries\n",
    "\n",
    "Es reicht in dieser Übung aus, die folgenden Python-Libraries zu benutzen:\n",
    "\n",
    "**Hinweis:** Allenfalls musst du das tqdm-Paket noch installieren."
   ]
  },
  {
   "cell_type": "code",
   "metadata": {
    "ExecuteTime": {
     "end_time": "2024-06-18T16:12:15.855104Z",
     "start_time": "2024-06-18T16:12:08.777488Z"
    }
   },
   "source": [
    "import numpy as np\n",
    "import pandas as pd\n",
    "import matplotlib.pyplot as plt\n",
    "from tqdm.auto import tqdm"
   ],
   "outputs": [],
   "execution_count": 1
  },
  {
   "cell_type": "markdown",
   "metadata": {},
   "source": [
    "## Interaktionsmatrix bestimmen\n",
    "\n",
    "Die Basis von kollaborationsbasierten Systemen ist die sogenannte **Interaktions-** oder **User-Item-Matrix**. Sie enthält in den Zeilen die Nutzer:innen des Systems, in den Spalten die Items (oft die Produkte, in unserem Fall die Filme) und als Matrixelemente jeweils die Bewertung, die Nutzer:in $i$ für Produkt $j$ abgegeben hat. Hier eine beispielhafte Illustration für Filme:\n",
    "\n",
    "<center>\n",
    "<img src=\"Bild/mc3_interaktionsmatrix.png\" width=\"300\">\n",
    "</center>\n",
    "\n",
    "6 Nutzer:innen haben ingesamt 19 Bewertungen für 6 Filme abgegeben. Niemand hat alle Filme bewertet, nur etwa die Hälfte aller möglichen Bewertungen sind vorhanden. Die Interaktionsmatrix ist die Wissensbasis des Recommender-Systems, das wir bauen möchten.\n",
    "\n",
    "Wir möchten nun im Folgenden gerne diese Interaktionsmatrix erstellen, damit wir von ihr ausgehend weiterrechnen können. Wir erstellen sie aus den beiden Dateien `movies.csv` und `ratings.csv`, die der Minichallenge beiliegen. Das dazu nötige Data Wrangling soll hier nicht im Fokus stehen, daher ist es bereits für dich erledigt:"
   ]
  },
  {
   "cell_type": "markdown",
   "metadata": {},
   "source": [
    "Daten einlesen:"
   ]
  },
  {
   "cell_type": "code",
   "metadata": {
    "ExecuteTime": {
     "end_time": "2024-06-18T16:13:34.015591Z",
     "start_time": "2024-06-18T16:13:33.932557Z"
    }
   },
   "source": [
    "movies = pd.read_csv(\"Daten/movies.csv\")\n",
    "ratings = pd.read_csv(\"Daten/ratings.csv\")"
   ],
   "outputs": [],
   "execution_count": 3
  },
  {
   "cell_type": "markdown",
   "metadata": {},
   "source": [
    "Bereinigungen durchführen:"
   ]
  },
  {
   "cell_type": "code",
   "metadata": {
    "ExecuteTime": {
     "end_time": "2024-06-18T16:17:32.505461Z",
     "start_time": "2024-06-18T16:17:32.341421Z"
    }
   },
   "source": [
    "movies['year'] = movies.title.str.extract(\"\\((\\d+)\\)$\").astype(float)\n",
    "movies.title = movies.title.str.replace(\"\\(\\d+\\)\", \"\", regex=True)\n",
    "movies.title = movies.title.str.replace(r'(.+), The', r'The \\1', regex=True)\n",
    "movies.title = movies.title.str.replace(r'(.+), A', r' \\1', regex=True)\n",
    "movies.title = movies.title.str.strip()\n",
    "movies.head()"
   ],
   "outputs": [
    {
     "data": {
      "text/plain": [
       "   movieId                        title  \\\n",
       "0        1                    Toy Story   \n",
       "1        2                      Jumanji   \n",
       "2        3             Grumpier Old Men   \n",
       "3        4            Waiting to Exhale   \n",
       "4        5  Father of the Bride Part II   \n",
       "\n",
       "                                        genres    year  \n",
       "0  Adventure|Animation|Children|Comedy|Fantasy  1995.0  \n",
       "1                   Adventure|Children|Fantasy  1995.0  \n",
       "2                               Comedy|Romance  1995.0  \n",
       "3                         Comedy|Drama|Romance  1995.0  \n",
       "4                                       Comedy  1995.0  "
      ],
      "text/html": [
       "<div>\n",
       "<style scoped>\n",
       "    .dataframe tbody tr th:only-of-type {\n",
       "        vertical-align: middle;\n",
       "    }\n",
       "\n",
       "    .dataframe tbody tr th {\n",
       "        vertical-align: top;\n",
       "    }\n",
       "\n",
       "    .dataframe thead th {\n",
       "        text-align: right;\n",
       "    }\n",
       "</style>\n",
       "<table border=\"1\" class=\"dataframe\">\n",
       "  <thead>\n",
       "    <tr style=\"text-align: right;\">\n",
       "      <th></th>\n",
       "      <th>movieId</th>\n",
       "      <th>title</th>\n",
       "      <th>genres</th>\n",
       "      <th>year</th>\n",
       "    </tr>\n",
       "  </thead>\n",
       "  <tbody>\n",
       "    <tr>\n",
       "      <th>0</th>\n",
       "      <td>1</td>\n",
       "      <td>Toy Story</td>\n",
       "      <td>Adventure|Animation|Children|Comedy|Fantasy</td>\n",
       "      <td>1995.0</td>\n",
       "    </tr>\n",
       "    <tr>\n",
       "      <th>1</th>\n",
       "      <td>2</td>\n",
       "      <td>Jumanji</td>\n",
       "      <td>Adventure|Children|Fantasy</td>\n",
       "      <td>1995.0</td>\n",
       "    </tr>\n",
       "    <tr>\n",
       "      <th>2</th>\n",
       "      <td>3</td>\n",
       "      <td>Grumpier Old Men</td>\n",
       "      <td>Comedy|Romance</td>\n",
       "      <td>1995.0</td>\n",
       "    </tr>\n",
       "    <tr>\n",
       "      <th>3</th>\n",
       "      <td>4</td>\n",
       "      <td>Waiting to Exhale</td>\n",
       "      <td>Comedy|Drama|Romance</td>\n",
       "      <td>1995.0</td>\n",
       "    </tr>\n",
       "    <tr>\n",
       "      <th>4</th>\n",
       "      <td>5</td>\n",
       "      <td>Father of the Bride Part II</td>\n",
       "      <td>Comedy</td>\n",
       "      <td>1995.0</td>\n",
       "    </tr>\n",
       "  </tbody>\n",
       "</table>\n",
       "</div>"
      ]
     },
     "execution_count": 4,
     "metadata": {},
     "output_type": "execute_result"
    }
   ],
   "execution_count": 4
  },
  {
   "cell_type": "markdown",
   "metadata": {},
   "source": [
    "Filme ohne Rating entfernen:"
   ]
  },
  {
   "cell_type": "code",
   "metadata": {
    "ExecuteTime": {
     "end_time": "2024-06-18T16:17:46.735235Z",
     "start_time": "2024-06-18T16:17:46.717886Z"
    }
   },
   "source": [
    "movies = movies[movies.movieId.isin( ratings.movieId.unique() )].reset_index( drop=True )\n",
    "movies.shape"
   ],
   "outputs": [
    {
     "data": {
      "text/plain": [
       "(9724, 4)"
      ]
     },
     "execution_count": 5,
     "metadata": {},
     "output_type": "execute_result"
    }
   ],
   "execution_count": 5
  },
  {
   "cell_type": "markdown",
   "metadata": {},
   "source": [
    "Interaktionsmatrix erstellen:"
   ]
  },
  {
   "cell_type": "code",
   "metadata": {
    "ExecuteTime": {
     "end_time": "2024-06-18T16:18:02.813095Z",
     "start_time": "2024-06-18T16:18:02.597911Z"
    }
   },
   "source": [
    "I = pd.crosstab( ratings.userId, ratings.movieId, values=ratings.rating, aggfunc='mean', dropna=True ).fillna(0)\n",
    "user_ids = I.index\n",
    "movie_ids = I.columns\n",
    "X = I.values"
   ],
   "outputs": [],
   "execution_count": 6
  },
  {
   "cell_type": "markdown",
   "metadata": {},
   "source": [
    "Belegung der Interaktionsmatrix:"
   ]
  },
  {
   "cell_type": "code",
   "metadata": {
    "ExecuteTime": {
     "end_time": "2024-06-18T16:18:10.166851Z",
     "start_time": "2024-06-18T16:18:10.146391Z"
    }
   },
   "source": [
    "np.mean( X>0 )"
   ],
   "outputs": [
    {
     "data": {
      "text/plain": [
       "0.016999683055613623"
      ]
     },
     "execution_count": 7,
     "metadata": {},
     "output_type": "execute_result"
    }
   ],
   "execution_count": 7
  },
  {
   "cell_type": "markdown",
   "metadata": {},
   "source": [
    "Nur 1.7% aller möglichen Bewertungen liegen vor!"
   ]
  },
  {
   "cell_type": "markdown",
   "metadata": {},
   "source": [
    "Shape der Interaktionsmatrix:"
   ]
  },
  {
   "cell_type": "code",
   "metadata": {
    "ExecuteTime": {
     "end_time": "2024-06-18T16:18:23.441391Z",
     "start_time": "2024-06-18T16:18:23.433668Z"
    }
   },
   "source": [
    "X.shape, len(user_ids), len(movie_ids)"
   ],
   "outputs": [
    {
     "data": {
      "text/plain": [
       "((610, 9724), 610, 9724)"
      ]
     },
     "execution_count": 8,
     "metadata": {},
     "output_type": "execute_result"
    }
   ],
   "execution_count": 8
  },
  {
   "cell_type": "markdown",
   "metadata": {},
   "source": [
    "Visualisierung der Belegung der Interaktionsmatrix:"
   ]
  },
  {
   "cell_type": "code",
   "metadata": {
    "ExecuteTime": {
     "end_time": "2024-06-18T16:18:37.414598Z",
     "start_time": "2024-06-18T16:18:35.911825Z"
    }
   },
   "source": [
    "plt.matshow(X > 0, cmap=\"gray\")"
   ],
   "outputs": [
    {
     "data": {
      "text/plain": [
       "<matplotlib.image.AxesImage at 0x2d8cc1ed350>"
      ]
     },
     "execution_count": 9,
     "metadata": {},
     "output_type": "execute_result"
    },
    {
     "data": {
      "text/plain": [
       "<Figure size 1600x200 with 1 Axes>"
      ],
      "image/png": "[encoded data removed]"
     },
     "metadata": {},
     "output_type": "display_data"
    }
   ],
   "execution_count": 9
  },
  {
   "cell_type": "markdown",
   "metadata": {},
   "source": [
    "## Empfehlungen erstellen (deine Aufgabe)"
   ]
  },
  {
   "cell_type": "markdown",
   "metadata": {},
   "source": [
    "Nun bist du dran! Du sollst die Ähnlichkeiten zwischen den verschiedenen Filmen mit der Cosine Similarity bestimmen und diese zur Erstellung von Empfehlungen benutzen. Wir gehen dabei Stück für Stück vor und berechnen zuerst eine einzelne Cosine Similarity, dann die ganze Ähnlichkeitsmatrix und erstellen schliesslich Filmempfehlungen daraus."
   ]
  },
  {
   "cell_type": "markdown",
   "metadata": {},
   "source": [
    "### a) Einzelne Cosine Similarity berechnen"
   ]
  },
  {
   "cell_type": "markdown",
   "metadata": {},
   "source": [
    "Gegeben sei also die Interaktionsmatrix $X\\in \\mathbb{R}^{610 \\times 9724}$. Die Cosine Similarity zwischen Film $i$ und Film $j$ ist definiert als\n",
    "\n",
    "$$s_{ij} = \\frac{\\mathbf{x}_i \\cdot \\mathbf{x}_j}{|\\mathbf{x}_i| \\; |\\mathbf{x}_j|},$$\n",
    "\n",
    "wobei $\\mathbf{x}_i$ den i-ten Spaltenvektor von $X$ bezeichne. "
   ]
  },
  {
   "cell_type": "markdown",
   "metadata": {},
   "source": [
    "Berechne als Beispiel die Cosine Similarity zwischen den Filmen 'Star Wars: Episode IV - A New Hope' ($i=224$) und 'Star Wars: Episode V - The Empire Strikes Back' ($j=897$). Benutze dazu die Befehle `np.dot()` und `np.linalg.norm()`. Definiere zuerst die Spaltenvektoren `xi` und `xj` mit geeignetem Slicing von $X$ und prüfe, ob diese jeweils 610 Elemente enthalten (eine Bewertung pro Benutzer:in). Sind die Filme einander gemäss diesem Mass ähnlich?"
   ]
  },
  {
   "cell_type": "code",
   "metadata": {
    "ExecuteTime": {
     "end_time": "2024-06-19T14:44:53.554138Z",
     "start_time": "2024-06-19T14:44:53.545735Z"
    }
   },
   "source": [
    "# DEIN CODE\n",
    "xi = X[:,224]\n",
    "xj = X[:,897]\n",
    "sij = np.dot(xi, xj)/(np.linalg.norm(xi)*np.linalg.norm(xj))\n",
    "print(sij)"
   ],
   "outputs": [
    {
     "name": "stdout",
     "output_type": "stream",
     "text": [
      "0.8324073552233734\n"
     ]
    }
   ],
   "execution_count": 14
  },
  {
   "cell_type": "markdown",
   "metadata": {},
   "source": [
    "### b) Ähnlichkeitsmatrix $S$ mit for-Schleife berechnen"
   ]
  },
  {
   "cell_type": "markdown",
   "metadata": {},
   "source": [
    "Für unser Recommender-System möchten wir gerne auf Vorrat $s_{ij}$ für alle Benutzer:innen $i$ und Filme $j$ berechnen, damit wir nachher schnell für alle Filme Empfehlungen berechnen können. Damit erhalten wir die **Ähnlichkeitsmatrix** $S \\in \\mathbb{R}^{9724 \\times 9724}$, deren Elemente gerade die $s_{ij}$ für alle möglichen Filmpaare sind.\n",
    "\n",
    "Wir haben in a) ein einzelnes Element $s_{ij}$ der Matrix $S$ berechnet. Um die ganze Ähnlichkeitsmatrix zu berechnen, können wir mit einer verschachtelten for-Schleife über alle $i$ und $j$ iterieren und die einzelnen Elemente von $S$ befüllen. Es wird sich zeigen, dass dieser Ansatz sehr ineffizient ist und etwas länger dauert (5-10 Minuten), darum macht es Sinn, das tqdm-Paket zu verwenden, das dir neben einer Fortschrittsanzeige auch eine ungefähre Abschätzung der noch zu erwartenden Berechnungszeit anzeigt.\n",
    "\n",
    "Das tqdm-Paket kann sehr einfach verwendet werden:\n",
    "\n",
    "Umschliesse einfach das *Iterable*, über das du mit deiner for-Schleife iterieren möchtest, mit der `tqdm()`-Funktion. Diese liefert dann ein neues Iterable zurück und übernimmt die Progressbar für dich. Zum Beispiel wird so `for i in range(1000)` zu `for j in tqdm(range(1000))`. Hier gleich zum Ausprobieren:"
   ]
  },
  {
   "cell_type": "code",
   "metadata": {
    "ExecuteTime": {
     "end_time": "2024-06-19T14:48:55.959833Z",
     "start_time": "2024-06-19T14:48:44.769774Z"
    }
   },
   "source": [
    "for i in tqdm( range(1000) ):\n",
    "    i**50000 # gibt nichts aus - nur zum Verlangsamen der Schleife"
   ],
   "outputs": [
    {
     "data": {
      "text/plain": [
       "  0%|          | 0/1000 [00:00<?, ?it/s]"
      ],
      "application/vnd.jupyter.widget-view+json": {
       "version_major": 2,
       "version_minor": 0,
       "model_id": "9c6eb44f8162487985b492da5a51cfce"
      }
     },
     "metadata": {},
     "output_type": "display_data"
    }
   ],
   "execution_count": 15
  },
  {
   "cell_type": "markdown",
   "metadata": {},
   "source": [
    "Berechne nun die gesamte Matrix $S$ mit einer verschachtelten for-Schleife über $i$ und $j$ und setze um die äussere `range()`-Funktion ein `tqdm()`. Wie lange musst du rechnen?"
   ]
  },
  {
   "cell_type": "code",
   "metadata": {
    "ExecuteTime": {
     "end_time": "2024-06-20T07:34:46.243305Z",
     "start_time": "2024-06-20T07:31:55.006275Z"
    }
   },
   "source": [
    "# DEIN CODE\n",
    "S = np.zeros((9724, 9724))\n",
    "X_norm = X / np.linalg.norm(X, axis=1, keepdims=True)\n",
    "for i in tqdm(range(9724)):\n",
    "    for j in range(610):\n",
    "        Nenner = np.linalg.norm(X[i]) * np.linalg.norm(X[j])\n",
    "        Zähler = np.dot(X[i], X[j])\n",
    "        S[i, j] = Zähler / Nenner\n",
    "        "
   ],
   "outputs": [
    {
     "data": {
      "text/plain": [
       "  0%|          | 0/9724 [00:00<?, ?it/s]"
      ],
      "application/vnd.jupyter.widget-view+json": {
       "version_major": 2,
       "version_minor": 0,
       "model_id": "ad31036544f9499e808bffba9cf1d26f"
      }
     },
     "metadata": {},
     "output_type": "display_data"
    },
    {
     "ename": "IndexError",
     "evalue": "index 610 is out of bounds for axis 0 with size 610",
     "output_type": "error",
     "traceback": [
      "\u001B[1;31m---------------------------------------------------------------------------\u001B[0m",
      "\u001B[1;31mIndexError\u001B[0m                                Traceback (most recent call last)",
      "Cell \u001B[1;32mIn[57], line 6\u001B[0m\n\u001B[0;32m      4\u001B[0m \u001B[38;5;28;01mfor\u001B[39;00m i \u001B[38;5;129;01min\u001B[39;00m tqdm(\u001B[38;5;28mrange\u001B[39m(\u001B[38;5;241m9724\u001B[39m)):\n\u001B[0;32m      5\u001B[0m     \u001B[38;5;28;01mfor\u001B[39;00m j \u001B[38;5;129;01min\u001B[39;00m \u001B[38;5;28mrange\u001B[39m(\u001B[38;5;241m610\u001B[39m):\n\u001B[1;32m----> 6\u001B[0m         Nenner \u001B[38;5;241m=\u001B[39m np\u001B[38;5;241m.\u001B[39mlinalg\u001B[38;5;241m.\u001B[39mnorm(\u001B[43mX\u001B[49m\u001B[43m[\u001B[49m\u001B[43mi\u001B[49m\u001B[43m]\u001B[49m) \u001B[38;5;241m*\u001B[39m np\u001B[38;5;241m.\u001B[39mlinalg\u001B[38;5;241m.\u001B[39mnorm(X[j])\n\u001B[0;32m      7\u001B[0m         Zähler \u001B[38;5;241m=\u001B[39m np\u001B[38;5;241m.\u001B[39mdot(X[i], X[j])\n\u001B[0;32m      8\u001B[0m         S[i, j] \u001B[38;5;241m=\u001B[39m Zähler \u001B[38;5;241m/\u001B[39m Nenner\n",
      "\u001B[1;31mIndexError\u001B[0m: index 610 is out of bounds for axis 0 with size 610"
     ]
    }
   ],
   "execution_count": 57
  },
  {
   "cell_type": "markdown",
   "metadata": {},
   "source": [
    "### c) Cosine-Similarity vektorisiert berechnen"
   ]
  },
  {
   "cell_type": "markdown",
   "metadata": {},
   "source": [
    "Wie wir in Teilaufgabe b) gesehen haben, ist die Berechnung aller ca. 95 Millionen Matrixelemente der Ähnlichkeitsmatrix $S$ über verschachtelte for-Schleifen etwas zeitaufwändig. Das ist aus zwei Gründen so:\n",
    "\n",
    "1. Python ist eine Interpretersprache und for-Schleifen sind dort sehr viel langsamer als in einer kompilierten Sprache. \n",
    "2. Da alles sequentiell abgearbeitet wird, können die Möglichkeiten der *Vektorisierung* auf deinem Prozessor nicht ausgenutzt werden, bei der parallel mehrere Berechnungen durchgeführt werden.\n",
    "\n",
    "Typischerweise brauchen verschachtelte for-Loops so schnell 100 mal länger, es empfiehlt sich also, möglichst auf diese zu verzichten und stattdessen mit Vektoren und Matrizen zu arbeiten. Die Numpy-Bibliothek ist in C kompiliert und dementsprechend effizient.\n",
    "\n",
    "Im Skript hast du gesehen, dass die Ähnlichkeitsmatrix aus der Interaktionsmatrix als \n",
    "\n",
    "$$\n",
    "S = X^T X\n",
    "$$\n",
    "\n",
    "berechnet werden kann, wenn alle Spalten der Interaktionsmatrix $X$ vorgängig auf den Betrag 1 normiert wurden.\n",
    "\n",
    "Berechne nun $S$ auf diese Weise. Normiere zuerst die Spalten von $X$ auf 1, indem du jede Spalte geeignet durch ihre Länge dividierst (Stichwort [Broadcasting](https://numpy.org/doc/stable/user/basics.broadcasting.html)) und berechne dann $S$ gemäss obiger Formel. Prüfe, ob $S$ die richtigen Dimensionen hat, ob alle Elemente von $S$ zwischen 0 und 1 liegen und ob alle Diagonalelemente von $S$ gleich 1 sind. Du wirst merken, dass die Berechnung auf diese Art wesentlich schneller geht. Wenn du Lust hast, kannst du mit `%%timeit` prüfen, wieviel schneller!"
   ]
  },
  {
   "cell_type": "code",
   "metadata": {
    "ExecuteTime": {
     "end_time": "2024-06-20T07:26:19.413178Z",
     "start_time": "2024-06-20T07:26:14.210463Z"
    }
   },
   "source": [
    "# DEIN CODE\n",
    "X_norm = X / np.linalg.norm(X, axis=0, keepdims=True)\n",
    "S = np.dot(X_norm.T, X_norm)"
   ],
   "outputs": [
    {
     "name": "stdout",
     "output_type": "stream",
     "text": [
      "[[1.         0.41056206 0.2969169  ... 0.         0.         0.        ]\n",
      " [0.41056206 1.         0.28243799 ... 0.         0.         0.        ]\n",
      " [0.2969169  0.28243799 1.         ... 0.         0.         0.        ]\n",
      " ...\n",
      " [0.         0.         0.         ... 1.         1.         0.        ]\n",
      " [0.         0.         0.         ... 1.         1.         0.        ]\n",
      " [0.         0.         0.         ... 0.         0.         1.        ]]\n"
     ]
    }
   ],
   "execution_count": 52
  },
  {
   "cell_type": "markdown",
   "metadata": {},
   "source": [
    "### d) Ähnliche Filme finden\n",
    "\n",
    "In dieser Aufgabe kannst du nun die aus deinen Berechnungen resultierenden Empfehlungen für deine Lieblingsfilme ausprobieren. Praktisch die ganze Arbeit ist dabei für dich schon erledigt. Finde dazu zuerst die `movieId` eines ausgewählten Films, indem du wie im untenstehenden Beispiel nach dem Titel des Films suchst:"
   ]
  },
  {
   "cell_type": "code",
   "metadata": {
    "ExecuteTime": {
     "end_time": "2024-06-20T07:28:02.398165Z",
     "start_time": "2024-06-20T07:28:02.370669Z"
    }
   },
   "source": [
    "movies[movies.title.str.contains(\"Hackers\", case=False)]"
   ],
   "outputs": [
    {
     "data": {
      "text/plain": [
       "     movieId    title                           genres    year\n",
       "142      170  Hackers  Action|Adventure|Crime|Thriller  1995.0"
      ],
      "text/html": [
       "<div>\n",
       "<style scoped>\n",
       "    .dataframe tbody tr th:only-of-type {\n",
       "        vertical-align: middle;\n",
       "    }\n",
       "\n",
       "    .dataframe tbody tr th {\n",
       "        vertical-align: top;\n",
       "    }\n",
       "\n",
       "    .dataframe thead th {\n",
       "        text-align: right;\n",
       "    }\n",
       "</style>\n",
       "<table border=\"1\" class=\"dataframe\">\n",
       "  <thead>\n",
       "    <tr style=\"text-align: right;\">\n",
       "      <th></th>\n",
       "      <th>movieId</th>\n",
       "      <th>title</th>\n",
       "      <th>genres</th>\n",
       "      <th>year</th>\n",
       "    </tr>\n",
       "  </thead>\n",
       "  <tbody>\n",
       "    <tr>\n",
       "      <th>142</th>\n",
       "      <td>170</td>\n",
       "      <td>Hackers</td>\n",
       "      <td>Action|Adventure|Crime|Thriller</td>\n",
       "      <td>1995.0</td>\n",
       "    </tr>\n",
       "  </tbody>\n",
       "</table>\n",
       "</div>"
      ]
     },
     "execution_count": 53,
     "metadata": {},
     "output_type": "execute_result"
    }
   ],
   "execution_count": 53
  },
  {
   "cell_type": "markdown",
   "metadata": {},
   "source": [
    "Ausserdem setzen wir die Ähnlichkeit aller Filme mit sich selbst auf Null, damit ein Film nicht sich selbst vorgeschlagen wird:"
   ]
  },
  {
   "cell_type": "code",
   "metadata": {
    "ExecuteTime": {
     "end_time": "2024-06-20T07:28:20.916695Z",
     "start_time": "2024-06-20T07:28:20.909758Z"
    }
   },
   "source": [
    "d = np.arange(S.shape[0])\n",
    "S[d,d] = 0"
   ],
   "outputs": [],
   "execution_count": 54
  },
  {
   "cell_type": "markdown",
   "metadata": {},
   "source": [
    "Du kannst nun die folgende Funktion für eine Recommendation aufgrund deiner Ähnlichkeitsmatrix verwenden (und optional verstehen):"
   ]
  },
  {
   "cell_type": "code",
   "metadata": {
    "ExecuteTime": {
     "end_time": "2024-06-20T07:28:38.079110Z",
     "start_time": "2024-06-20T07:28:38.070305Z"
    }
   },
   "source": [
    "def recommend( movieId, S, sim_thresh=0.3, n_max=20 ):\n",
    "    i = np.where( movie_ids == movieId )[0][0]\n",
    "    rec = pd.DataFrame( {\n",
    "        'movieId': movie_ids[np.argsort( S[i,:] )][::-1], \n",
    "        'similarity': np.sort(S[i,:])[::-1] \n",
    "    } )\n",
    "    rec = rec[rec.similarity>=sim_thresh]\n",
    "    rec = rec.merge(movies, on=\"movieId\")\n",
    "    return rec.head(n_max)"
   ],
   "outputs": [],
   "execution_count": 55
  },
  {
   "cell_type": "markdown",
   "metadata": {},
   "source": [
    "Im Prinzip sucht diese Funktion zum gegebenen Film die Filme mit der höchsten Ähnlichkeit. Hat der Film den Index $i$ in der Matrix $S$, so suchen wir also die $j$, für die $s_{ij}$ nahe bei 1 ist. Der ganze Vorgang ist etwas komplizierter, weil nicht alle Filme bewertet sind und daher das Feld `movieId` generell nicht mit dem entsprechenden Index in der Matrix $S$ übereinstimmt."
   ]
  },
  {
   "cell_type": "code",
   "metadata": {
    "ExecuteTime": {
     "end_time": "2024-06-20T07:28:45.387345Z",
     "start_time": "2024-06-20T07:28:45.359166Z"
    }
   },
   "source": [
    "recommend( movieId=170, S=S ).head(20)"
   ],
   "outputs": [
    {
     "data": {
      "text/plain": [
       "    movieId  similarity                              title  \\\n",
       "0      4344    0.452647                          Swordfish   \n",
       "1      2126    0.448481                         Snake Eyes   \n",
       "2      4015    0.402786              Dude, Where's My Car?   \n",
       "3      4544    0.395313                    Short Circuit 2   \n",
       "4      4052    0.388804                          Antitrust   \n",
       "5      4974    0.381453             Not Another Teen Movie   \n",
       "6      1918    0.380043                    Lethal Weapon 4   \n",
       "7       442    0.379564                     Demolition Man   \n",
       "8        44    0.375628                      Mortal Kombat   \n",
       "9      2808    0.375570                  Universal Soldier   \n",
       "10     2282    0.368592                             Pecker   \n",
       "11       10    0.362648                          GoldenEye   \n",
       "12     3763    0.362110                                F/X   \n",
       "13       93    0.361840                Vampire in Brooklyn   \n",
       "14     2167    0.361080                              Blade   \n",
       "15     1608    0.360937                      Air Force One   \n",
       "16     2617    0.360024                          The Mummy   \n",
       "17     4446    0.359942  Final Fantasy: The Spirits Within   \n",
       "18     1591    0.359421                              Spawn   \n",
       "19     2253    0.358059                               Toys   \n",
       "\n",
       "                                             genres    year  \n",
       "0                                Action|Crime|Drama  2001.0  \n",
       "1                     Action|Crime|Mystery|Thriller  1998.0  \n",
       "2                                     Comedy|Sci-Fi  2000.0  \n",
       "3                                     Comedy|Sci-Fi  1988.0  \n",
       "4                              Crime|Drama|Thriller  2001.0  \n",
       "5                                            Comedy  2001.0  \n",
       "6                      Action|Comedy|Crime|Thriller  1998.0  \n",
       "7                           Action|Adventure|Sci-Fi  1993.0  \n",
       "8                          Action|Adventure|Fantasy  1995.0  \n",
       "9                                     Action|Sci-Fi  1992.0  \n",
       "10                                     Comedy|Drama  1998.0  \n",
       "11                        Action|Adventure|Thriller  1995.0  \n",
       "12                            Action|Crime|Thriller  1986.0  \n",
       "13                            Comedy|Horror|Romance  1995.0  \n",
       "14                           Action|Horror|Thriller  1998.0  \n",
       "15                                  Action|Thriller  1997.0  \n",
       "16  Action|Adventure|Comedy|Fantasy|Horror|Thriller  1999.0  \n",
       "17               Adventure|Animation|Fantasy|Sci-Fi  2001.0  \n",
       "18                 Action|Adventure|Sci-Fi|Thriller  1997.0  \n",
       "19                                   Comedy|Fantasy  1992.0  "
      ],
      "text/html": [
       "<div>\n",
       "<style scoped>\n",
       "    .dataframe tbody tr th:only-of-type {\n",
       "        vertical-align: middle;\n",
       "    }\n",
       "\n",
       "    .dataframe tbody tr th {\n",
       "        vertical-align: top;\n",
       "    }\n",
       "\n",
       "    .dataframe thead th {\n",
       "        text-align: right;\n",
       "    }\n",
       "</style>\n",
       "<table border=\"1\" class=\"dataframe\">\n",
       "  <thead>\n",
       "    <tr style=\"text-align: right;\">\n",
       "      <th></th>\n",
       "      <th>movieId</th>\n",
       "      <th>similarity</th>\n",
       "      <th>title</th>\n",
       "      <th>genres</th>\n",
       "      <th>year</th>\n",
       "    </tr>\n",
       "  </thead>\n",
       "  <tbody>\n",
       "    <tr>\n",
       "      <th>0</th>\n",
       "      <td>4344</td>\n",
       "      <td>0.452647</td>\n",
       "      <td>Swordfish</td>\n",
       "      <td>Action|Crime|Drama</td>\n",
       "      <td>2001.0</td>\n",
       "    </tr>\n",
       "    <tr>\n",
       "      <th>1</th>\n",
       "      <td>2126</td>\n",
       "      <td>0.448481</td>\n",
       "      <td>Snake Eyes</td>\n",
       "      <td>Action|Crime|Mystery|Thriller</td>\n",
       "      <td>1998.0</td>\n",
       "    </tr>\n",
       "    <tr>\n",
       "      <th>2</th>\n",
       "      <td>4015</td>\n",
       "      <td>0.402786</td>\n",
       "      <td>Dude, Where's My Car?</td>\n",
       "      <td>Comedy|Sci-Fi</td>\n",
       "      <td>2000.0</td>\n",
       "    </tr>\n",
       "    <tr>\n",
       "      <th>3</th>\n",
       "      <td>4544</td>\n",
       "      <td>0.395313</td>\n",
       "      <td>Short Circuit 2</td>\n",
       "      <td>Comedy|Sci-Fi</td>\n",
       "      <td>1988.0</td>\n",
       "    </tr>\n",
       "    <tr>\n",
       "      <th>4</th>\n",
       "      <td>4052</td>\n",
       "      <td>0.388804</td>\n",
       "      <td>Antitrust</td>\n",
       "      <td>Crime|Drama|Thriller</td>\n",
       "      <td>2001.0</td>\n",
       "    </tr>\n",
       "    <tr>\n",
       "      <th>5</th>\n",
       "      <td>4974</td>\n",
       "      <td>0.381453</td>\n",
       "      <td>Not Another Teen Movie</td>\n",
       "      <td>Comedy</td>\n",
       "      <td>2001.0</td>\n",
       "    </tr>\n",
       "    <tr>\n",
       "      <th>6</th>\n",
       "      <td>1918</td>\n",
       "      <td>0.380043</td>\n",
       "      <td>Lethal Weapon 4</td>\n",
       "      <td>Action|Comedy|Crime|Thriller</td>\n",
       "      <td>1998.0</td>\n",
       "    </tr>\n",
       "    <tr>\n",
       "      <th>7</th>\n",
       "      <td>442</td>\n",
       "      <td>0.379564</td>\n",
       "      <td>Demolition Man</td>\n",
       "      <td>Action|Adventure|Sci-Fi</td>\n",
       "      <td>1993.0</td>\n",
       "    </tr>\n",
       "    <tr>\n",
       "      <th>8</th>\n",
       "      <td>44</td>\n",
       "      <td>0.375628</td>\n",
       "      <td>Mortal Kombat</td>\n",
       "      <td>Action|Adventure|Fantasy</td>\n",
       "      <td>1995.0</td>\n",
       "    </tr>\n",
       "    <tr>\n",
       "      <th>9</th>\n",
       "      <td>2808</td>\n",
       "      <td>0.375570</td>\n",
       "      <td>Universal Soldier</td>\n",
       "      <td>Action|Sci-Fi</td>\n",
       "      <td>1992.0</td>\n",
       "    </tr>\n",
       "    <tr>\n",
       "      <th>10</th>\n",
       "      <td>2282</td>\n",
       "      <td>0.368592</td>\n",
       "      <td>Pecker</td>\n",
       "      <td>Comedy|Drama</td>\n",
       "      <td>1998.0</td>\n",
       "    </tr>\n",
       "    <tr>\n",
       "      <th>11</th>\n",
       "      <td>10</td>\n",
       "      <td>0.362648</td>\n",
       "      <td>GoldenEye</td>\n",
       "      <td>Action|Adventure|Thriller</td>\n",
       "      <td>1995.0</td>\n",
       "    </tr>\n",
       "    <tr>\n",
       "      <th>12</th>\n",
       "      <td>3763</td>\n",
       "      <td>0.362110</td>\n",
       "      <td>F/X</td>\n",
       "      <td>Action|Crime|Thriller</td>\n",
       "      <td>1986.0</td>\n",
       "    </tr>\n",
       "    <tr>\n",
       "      <th>13</th>\n",
       "      <td>93</td>\n",
       "      <td>0.361840</td>\n",
       "      <td>Vampire in Brooklyn</td>\n",
       "      <td>Comedy|Horror|Romance</td>\n",
       "      <td>1995.0</td>\n",
       "    </tr>\n",
       "    <tr>\n",
       "      <th>14</th>\n",
       "      <td>2167</td>\n",
       "      <td>0.361080</td>\n",
       "      <td>Blade</td>\n",
       "      <td>Action|Horror|Thriller</td>\n",
       "      <td>1998.0</td>\n",
       "    </tr>\n",
       "    <tr>\n",
       "      <th>15</th>\n",
       "      <td>1608</td>\n",
       "      <td>0.360937</td>\n",
       "      <td>Air Force One</td>\n",
       "      <td>Action|Thriller</td>\n",
       "      <td>1997.0</td>\n",
       "    </tr>\n",
       "    <tr>\n",
       "      <th>16</th>\n",
       "      <td>2617</td>\n",
       "      <td>0.360024</td>\n",
       "      <td>The Mummy</td>\n",
       "      <td>Action|Adventure|Comedy|Fantasy|Horror|Thriller</td>\n",
       "      <td>1999.0</td>\n",
       "    </tr>\n",
       "    <tr>\n",
       "      <th>17</th>\n",
       "      <td>4446</td>\n",
       "      <td>0.359942</td>\n",
       "      <td>Final Fantasy: The Spirits Within</td>\n",
       "      <td>Adventure|Animation|Fantasy|Sci-Fi</td>\n",
       "      <td>2001.0</td>\n",
       "    </tr>\n",
       "    <tr>\n",
       "      <th>18</th>\n",
       "      <td>1591</td>\n",
       "      <td>0.359421</td>\n",
       "      <td>Spawn</td>\n",
       "      <td>Action|Adventure|Sci-Fi|Thriller</td>\n",
       "      <td>1997.0</td>\n",
       "    </tr>\n",
       "    <tr>\n",
       "      <th>19</th>\n",
       "      <td>2253</td>\n",
       "      <td>0.358059</td>\n",
       "      <td>Toys</td>\n",
       "      <td>Comedy|Fantasy</td>\n",
       "      <td>1992.0</td>\n",
       "    </tr>\n",
       "  </tbody>\n",
       "</table>\n",
       "</div>"
      ]
     },
     "execution_count": 56,
     "metadata": {},
     "output_type": "execute_result"
    }
   ],
   "execution_count": 56
  },
  {
   "cell_type": "markdown",
   "metadata": {},
   "source": [
    "## Ausblick"
   ]
  },
  {
   "cell_type": "markdown",
   "metadata": {},
   "source": [
    "Damit hast du nun ein sehr einfaches Recommender-System verstanden und implementiert! Die Empfehlungen scheinen vernünftig, sind aber auch oft nicht die besten. Zum Beispiel hat dieses System einen starken sogenannten *Popularity-Bias* für Filme, die sehr häufig gerated wurden. Ebenfalls sind in den Präferenzen der Nutzer:innen oft nebst Filmgeschmack auch die Zeitepochen abgebildet, in denen sie eher jung waren und Zeit für Filme hatten. So erhält man für Filme aus den 90ern halt öfters auch Filme aus den 90ern empfohlen. In der Realität werden daher oft auch komplexere Methoden eingesetzt, die zusätzlich noch auf Eigenschaften der Filme wie Genre, Veröffentlichungsdatum usw. zurückgreifen. Lust auf mehr? Unbedingt die Kompetenz [Recommender Systeme](https://spaces.technik.fhnw.ch/spaces/recommender-systems) besuchen!"
   ]
  }
 ],
 "metadata": {
  "kernelspec": {
   "display_name": "Python3",
   "language": "python",
   "name": "python3"
  },
  "language_info": {
   "codemirror_mode": {
    "name": "ipython",
    "version": 3
   },
   "file_extension": ".py",
   "mimetype": "text/x-python",
   "name": "python",
   "nbconvert_exporter": "python",
   "pygments_lexer": "ipython3",
   "version": "3.10.13"
  }
 },
 "nbformat": 4,
 "nbformat_minor": 4
}
