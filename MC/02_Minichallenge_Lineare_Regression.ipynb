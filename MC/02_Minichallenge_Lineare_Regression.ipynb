{
 "cells": [
  {
   "attachments": {
    "image.png": {
     "image/png": "[encoded data removed]"
    }
   },
   "cell_type": "markdown",
   "id": "27da5e98",
   "metadata": {},
   "source": [
    "<div style=\"width: 80%;\">\n",
    "\n",
    "<img src=\"attachment:image.png\" width=\"500\" style=\"float: left\">\n",
    "<div style=\"clear: both\"></div>\n",
    "<br>\n",
    "\n",
    "<div style=\"font-size: 20pt; float: left;\">Anwendungen der linearen Algebra</div>\n",
    "<div style=\"font-size: 20pt; text-align: right;\">FS 2024</div>\n",
    "<div style=\"font-size: 15pt; margin-top: 10px;\">Fachexperten: Roger Burkhardt, Cédric Huwyler</div>\n",
    "</div>\n",
    "<br>"
   ]
  },
  {
   "cell_type": "markdown",
   "id": "577a5122",
   "metadata": {},
   "source": [
    "# Minichallenge 2 zum Thema *Lineare Regression*"
   ]
  },
  {
   "cell_type": "markdown",
   "id": "2063c4d7",
   "metadata": {},
   "source": [
    "Die zweite Minichallenge dreht sich um das Thema der *linearen Regression*. Die lineare Regression ist aus der Data Science nicht wegzudenken. Sie ist sehr einfach verständlich und die Basis vieler weiterer Modelle, wie logistische Regression, Splines, Neuronale Netze, usw. Mit ihrer Einfachheit ist sie perfekt geeignet, um sich die Grundkenntnisse der Modellierung anzueignen. Im Rahmen dieser Minichallenge möchten wir uns auf die lineare Algebra hinter der linearen Regression konzentrieren und uns nicht allzustark mit dem Problem der Modellierung befassen (dieses braucht zusätzlich noch Kenntnisse in Statistik - wir verweisen dich dafür gerne auf Kompetenzen wie *Lineare und Logistische Regression*, *Multiple Lineare Regression* oder *Statistical Learning*).\n",
    "\n",
    "Hier bekommst du wiederum in der ersten Aufgabe die Gelegenheit, die Resultate aus dem Skript rechnerisch mit Numpy nachzuvollziehen. In der zweiten Aufgabe wirst du sehen, dass auch nicht-lineare Daten mit einer linearen Regression modelliert werden können. Vom Umfang her ist diese zweite Minichallenge schneller umzusetzen als die erste, insbesondere wenn du parallel schon *Lineare und Logistische Regression* belegst.\n",
    "\n",
    "**Musterlösung:**\n",
    "\n",
    "Zu dieser Minichallenge existiert (bewusst) keine Musterlösung. Wir werden sie aber zusammen besprechen und du kannst sie gerne zur Durchsicht und Kommentierung uns entweder in einer der Sprechstunden vorstellen oder mit deinen Mitstudierenden darüber diskutieren."
   ]
  },
  {
   "cell_type": "markdown",
   "id": "ccdf4a38",
   "metadata": {},
   "source": [
    "Wir laden zuerst alle benötigten Python-Bibliotheken:"
   ]
  },
  {
   "cell_type": "code",
   "id": "c206d5e4",
   "metadata": {
    "ExecuteTime": {
     "end_time": "2024-05-24T12:48:48.930044Z",
     "start_time": "2024-05-24T12:48:46.731711Z"
    }
   },
   "source": [
    "import pandas as pd\n",
    "import numpy as np\n",
    "import matplotlib.pyplot as plt"
   ],
   "outputs": [],
   "execution_count": 1
  },
  {
   "cell_type": "markdown",
   "id": "3c29a824",
   "metadata": {},
   "source": [
    "## Aufgabe 1: Einfache lineare Regression mit Mitteln der linearen Algebra durchführen\n",
    "\n",
    "In der ersten Aufgabe sollst du die Berechnungen zum Beispiel im Skript nachvollziehen und die lineare Algebra mit Numpy umsetzen.\n",
    "Dazu lesen wir erst einmal mit Pandas die Daten ein und visualisieren sie wie im Skript:"
   ]
  },
  {
   "cell_type": "code",
   "execution_count": null,
   "id": "a0fb4ddc-11e8-4902-9124-bd8e0cd16a53",
   "metadata": {},
   "outputs": [],
   "source": [
    "data = pd.read_csv(\"height_weight_data.csv\")\n",
    "data.head()"
   ]
  },
  {
   "cell_type": "markdown",
   "id": "bb83a45b-b0df-49a5-8cdf-8cabc1e58ad4",
   "metadata": {},
   "source": [
    "Da Pandas nicht das Thema dieser Kompetenz ist, möchten wir im Rest der Minichallenge darauf verzichten und lesen wie im Skript Körpergrösse und -gewicht in die Vektoren $x$ und $y$:"
   ]
  },
  {
   "cell_type": "code",
   "execution_count": null,
   "id": "55d82627-5e6b-497d-aca1-0f1b2931fa14",
   "metadata": {},
   "outputs": [],
   "source": [
    "x = np.array( data.height )\n",
    "y = np.array( data.weight )"
   ]
  },
  {
   "cell_type": "markdown",
   "id": "aaf48aaf-719a-4214-a029-60180f8a0dc0",
   "metadata": {},
   "source": [
    "In einem Scatterplot einander gegenübergestellt:"
   ]
  },
  {
   "cell_type": "code",
   "execution_count": null,
   "id": "a659d03b-539f-4cfb-bc7f-7ea85941a5b4",
   "metadata": {},
   "outputs": [],
   "source": [
    "plt.scatter(x, y)\n",
    "plt.xlabel(\"Körpergrösse [cm]\")\n",
    "plt.ylabel(\"Körpergewicht [kg]\")"
   ]
  },
  {
   "cell_type": "markdown",
   "id": "0ac70d75-eb65-4f9a-bb83-402b4511c944",
   "metadata": {},
   "source": [
    "Nun bist du an der Reihe!"
   ]
  },
  {
   "cell_type": "markdown",
   "id": "5e63d7ee-4d3d-4ef8-b471-e393352702c3",
   "metadata": {},
   "source": [
    "### a) Vektoren und Matrizen erstellen"
   ]
  },
  {
   "cell_type": "markdown",
   "id": "c959caa5-d21b-4c53-9dd0-da9e19f4575d",
   "metadata": {},
   "source": [
    "Um die lineare Regression durchführen zu können, brauchen wir die Inputs in geeigneter Form. Erstelle dazu die Design-Matrix $X \\in \\mathbb{R}^{15\\times2}$ und den Vektor $\\mathbf{y} \\in \\mathbb{R}^{15}$, indem du geeignete Numpy-Befehle wie `np.hstack()` oder `.reshape()` benutzt."
   ]
  },
  {
   "cell_type": "code",
   "execution_count": null,
   "id": "0baee68c-cc70-4510-9f47-f2cacd9868f1",
   "metadata": {},
   "outputs": [],
   "source": [
    "# DEIN CODE"
   ]
  },
  {
   "cell_type": "markdown",
   "id": "6c548661-a873-4e7a-bed4-add32a4e5a61",
   "metadata": {},
   "source": [
    "### b) Regressionsgerade bestimmen und einzeichnen"
   ]
  },
  {
   "cell_type": "markdown",
   "id": "13421c6c-f207-4418-9b1f-96b4459393f8",
   "metadata": {},
   "source": [
    "Mit $X$ und $\\mathbf{y}$ kannst du nun mit\n",
    "\n",
    "$$\n",
    "\\boldsymbol{\\beta} = (X^T X)^{-1} \\, X^T \\, \\mathbf{y}\n",
    "$$\n",
    "\n",
    "die Parameter $\\boldsymbol{\\beta}$ der Regressionsgerade bestimmen. Gib diese anschliessend aus und interpretiere sie."
   ]
  },
  {
   "cell_type": "code",
   "execution_count": null,
   "id": "cfbec0de-24dc-4fee-b167-ea3a09fe8285",
   "metadata": {},
   "outputs": [],
   "source": [
    "# DEIN CODE"
   ]
  },
  {
   "cell_type": "markdown",
   "id": "6c23d052-c56e-4585-81a3-1d60081edb18",
   "metadata": {},
   "source": [
    "Berechne mit dem gefundenen Regressionsparameter $\\boldsymbol{\\beta}$ auch die vorhergesagten Werte $\\mathbf{\\hat{y}}$. Falls du die dazu benötigte Formel nicht mehr auswändig weisst, schaue sie im Skript nach. **Hinweis:** $\\mathbf{\\hat{y}}$ hat natürlich die gleichen Dimensionen wie $\\mathbf{y}$."
   ]
  },
  {
   "cell_type": "code",
   "execution_count": null,
   "id": "16dfb35f-9bb0-4904-9842-d8919cc168c5",
   "metadata": {},
   "outputs": [],
   "source": [
    "# DEIN CODE"
   ]
  },
  {
   "cell_type": "markdown",
   "id": "b5ea24be-97ca-4ffa-a595-0d8d8799a87d",
   "metadata": {},
   "source": [
    "Kopiere nun den Code für den obigen Scatterplot und visualisiere darin die gefundene Regressionsgerade.\n",
    "\n",
    "**Hinweis:** Verwende ganz einfach statt $\\mathbf{y}$ den Vektor $\\mathbf{\\hat{y}}$ und benutze die `plot()`- statt die `scatter()`-Funktion."
   ]
  },
  {
   "cell_type": "code",
   "execution_count": null,
   "id": "009096da-c9da-44b6-8a53-3b8c6e3bf4e5",
   "metadata": {},
   "outputs": [],
   "source": [
    "# DEIN CODE"
   ]
  },
  {
   "cell_type": "markdown",
   "id": "2c910980-0064-4672-b267-33932b6ca347",
   "metadata": {},
   "source": [
    "### c) RMSE bestimmen"
   ]
  },
  {
   "cell_type": "markdown",
   "id": "24f02fb8-d494-4324-a260-6a2ba72e377c",
   "metadata": {},
   "source": [
    "Im Skript haben wir mit geeigneter Wahl von $\\boldsymbol{\\beta}$ die 'Loss'-Funktion \n",
    "\n",
    "$$\n",
    "L(\\mathbf{\\beta}) = \\sum_i |y_i - \\hat{y}_i|^2 = (\\mathbf{y} - \\mathbf{\\hat{y}})^T \\, (\\mathbf{y} - \\mathbf{\\hat{y}})\n",
    "$$\n",
    "\n",
    "optimiert. Oft ist statt $L(\\mathbf{\\beta})$ die Angabe des sogenannten *Root Mean Squared Error (RMSE)* interessanter:\n",
    "\n",
    "$$\n",
    "\\text{RMSE} = \\sqrt{ \\frac1n \\sum_i |y_i - \\hat{y}_i|^2 } = \\sqrt{ \\frac1n (\\mathbf{y} - \\mathbf{\\hat{y}})^T \\, (\\mathbf{y} - \\mathbf{\\hat{y}}) }\n",
    "$$\n",
    "\n",
    "Durch das Wurzelziehen hat der Fehler wieder die gleichen Einheiten wie die gesuchte Grösse $y$ (in unserem Fall das Körpergewicht). Berechne das erreichte RMSE mit den berechneten Vorhersagen $\\mathbf{\\hat{y}}$. Wie stark liegen damit unsere Vorhersagen $\\mathbf{\\hat{y}}$ durchschnittlich neben der Wahrheit?"
   ]
  },
  {
   "cell_type": "code",
   "execution_count": null,
   "id": "859cd8cf-82e7-46e6-949d-17b9ec47313c",
   "metadata": {},
   "outputs": [],
   "source": [
    "# DEIN CODE"
   ]
  },
  {
   "cell_type": "markdown",
   "id": "9e659f47-8a4c-4569-a33f-cb540d877328",
   "metadata": {},
   "source": [
    "### d) Eigenschaften des Projektionsproblems überprüfen"
   ]
  },
  {
   "cell_type": "markdown",
   "id": "7aa7b9d6-eb93-43d9-877d-70ca1dd61437",
   "metadata": {},
   "source": [
    "Im Skript haben wir gezeigt, dass die optimale Regressionsgerade gefunden werden kann, indem das Regressionsproblem als Projektionsproblem auf den Spaltenraum der Design-Matrix $X$ formuliert wird. Hier möchten wir ein paar Annahmen und Resultate daraus überprüfen."
   ]
  },
  {
   "cell_type": "markdown",
   "id": "5e81b06a-5bed-4661-9cf1-2c7874c1c71d",
   "metadata": {},
   "source": [
    "Prüfe als erstes mit dem Skalarprodukt, ob $\\mathbf{\\hat{y}}$ und $\\mathbf{y} - \\mathbf{\\hat{y}}$ tatsächlich senkrecht zueinander stehen:"
   ]
  },
  {
   "cell_type": "code",
   "execution_count": null,
   "id": "337ae9e1-8e13-46f9-baaa-08f1fd74c54d",
   "metadata": {},
   "outputs": [],
   "source": [
    "# DEIN CODE"
   ]
  },
  {
   "cell_type": "markdown",
   "id": "02513de4-d669-428d-9b92-5c58668751b6",
   "metadata": {},
   "source": [
    "Berechne nun die Projektionsmatrix $H = X \\, (X^T X)^{-1} \\, X^T$, die jeden Vektor $\\mathbf{y}$ auf den Spaltenraum von $X$ projiziert. Was sind ihre Dimensionen?"
   ]
  },
  {
   "cell_type": "code",
   "execution_count": null,
   "id": "10f9be31-8497-4ab5-943c-8298f7ab9b8c",
   "metadata": {},
   "outputs": [],
   "source": [
    "# DEIN CODE"
   ]
  },
  {
   "cell_type": "markdown",
   "id": "58d28e17-8c21-4c40-8a3a-bc0b7e157c2b",
   "metadata": {},
   "source": [
    "Zeige, dass $H^2 = H$ und $H$ damit tatsächlich eine Projektionsmatrix ist. "
   ]
  },
  {
   "cell_type": "code",
   "execution_count": null,
   "id": "6bf4bf67-c26c-4459-914d-2e69cb551511",
   "metadata": {},
   "outputs": [],
   "source": [
    "# DEIN CODE"
   ]
  },
  {
   "cell_type": "markdown",
   "id": "152d7d47-acf1-4918-9922-a32b09154c16",
   "metadata": {},
   "source": [
    "Berechne die Eigenwerte von $H$ - was ist an ihnen besonders? Findest du einen Zusammenhang zu einer Übung aus dem Kapitel 1 aus dem Skript?"
   ]
  },
  {
   "cell_type": "code",
   "execution_count": null,
   "id": "ee2cbdf1-5bc3-442b-8f47-ded3b8c8cf40",
   "metadata": {},
   "outputs": [],
   "source": [
    "# DEIN CODE"
   ]
  },
  {
   "cell_type": "markdown",
   "id": "1442b0da-238b-458c-8d63-2530996c5c4b",
   "metadata": {},
   "source": [
    "Und schliesslich wurde im Skript behauptet, dass die Matrix $X^T X$ positiv definit ist. Zeige kurz, dass dieses Eigenschaft für die benutzten Daten tatsächlich zutrifft."
   ]
  },
  {
   "cell_type": "code",
   "execution_count": null,
   "id": "42a37558-ec7c-4d07-8e90-e546c2dc021d",
   "metadata": {},
   "outputs": [],
   "source": [
    "# DEIN CODE"
   ]
  },
  {
   "cell_type": "markdown",
   "id": "0a632793-446b-4a8b-ad29-7dd63beedb98",
   "metadata": {},
   "source": [
    "### e) Optimierungsproblem visualisieren\n",
    "\n",
    "Bei dieser Aufgabe musst du nichts tun und kannst einfach den zur Verfügung gestellten Code ausführen. Wir haben im Skript argumentiert, dass der Loss gerade eine Quadrik bildet und das Loss Surface für dich visualisiert. Dies möchten wir hier reproduzieren:"
   ]
  },
  {
   "cell_type": "markdown",
   "id": "e7a96228-ff9b-4716-8272-f66434f6caff",
   "metadata": {},
   "source": [
    "Für ein Grid von $q$ und $m$ verschiedene Loss-Werte berechnen (hochgradig vektorisiert um ineffiziente for-Loops zu vermeiden):"
   ]
  },
  {
   "cell_type": "code",
   "execution_count": null,
   "id": "ec5f67f3-5150-4d46-adc4-c53aeceb6e87",
   "metadata": {},
   "outputs": [],
   "source": [
    "n = 1000\n",
    "qmin, qmax = beta[0] + np.array([-1.0,1.0])*100\n",
    "mmin, mmax = beta[1] + np.array([-1.0,1.0])*0.2\n",
    "q = np.linspace( qmin, qmax, n )\n",
    "m = np.linspace( mmin, mmax, n )\n",
    "Q, M = np.meshgrid(q, m)\n",
    "Beta = np.vstack( [Q.reshape(1,-1), M.reshape(1,-1)] )\n",
    "L = np.sum( (y - X.dot(Beta))**2, axis=0 ).reshape(n, n)"
   ]
  },
  {
   "cell_type": "markdown",
   "id": "1eeef761-8e2b-48be-88e9-f2ab6bb2705c",
   "metadata": {},
   "source": [
    "Loss Surface visualisieren:"
   ]
  },
  {
   "cell_type": "code",
   "execution_count": null,
   "id": "0ed71910-9845-4b1b-a75e-567c9196f125",
   "metadata": {},
   "outputs": [],
   "source": [
    "from mpl_toolkits.mplot3d import Axes3D\n",
    "plt.figure( figsize=(15,9) )\n",
    "ax = plt.subplot(1,1,1, projection='3d')\n",
    "ax.view_init(40, 113)\n",
    "ax.plot_surface(Q, M, L, linewidth=0.2 )\n",
    "ax.set_xlabel(\"q\")\n",
    "ax.set_ylabel(\"m\")\n",
    "ax.set_zlabel(\"L(q, m)\")\n",
    "\n",
    "cs = ax.contour( Q, M, L, 15, colors=\"k\", offset=-2 )\n",
    "ax.contourf( Q, M, L, 15, zdir='z', offset=-2, cmap=\"Reds\" )\n",
    "ax.plot(beta[0], beta[1], np.min(L), marker=\"o\", markersize=10, c=\"black\", zorder=100)"
   ]
  },
  {
   "cell_type": "markdown",
   "id": "725bd9ef-b019-4160-b6cb-60e8a7457b86",
   "metadata": {},
   "source": [
    "Dass der schwarze Punkt im Minimum des blauen Loss-Surface liegt, ist nicht ganz offensichtlich. Wir schneiden dazu grosse $y$-Werte weg und ändern die Ansicht auf das Loss Surface mit `ax.view_init()` ein wenig:"
   ]
  },
  {
   "cell_type": "code",
   "execution_count": null,
   "id": "5d735e03-9589-42f1-869a-5fdbfe6110e9",
   "metadata": {},
   "outputs": [],
   "source": [
    "plt.figure( figsize=(15,9) )\n",
    "ax = plt.subplot(1,1,1, projection='3d')\n",
    "ax.view_init(0, 60)\n",
    "ax.plot_surface(Q, M, L, linewidth=0.2 )\n",
    "ax.set_xlabel(\"q\")\n",
    "ax.set_ylabel(\"m\")\n",
    "ax.set_zlabel(\"L(q, m)\")\n",
    "ax.set_zlim(0, 1000)\n",
    "\n",
    "cs = ax.contour( Q, M, L, 15, colors=\"k\", offset=-2 )\n",
    "ax.contourf( Q, M, L, 15, zdir='z', offset=-2, cmap=\"Reds\" )\n",
    "ax.plot(beta[0], beta[1], np.min(L), marker=\"o\", markersize=10, c=\"black\", zorder=100)"
   ]
  },
  {
   "cell_type": "markdown",
   "id": "23a259fe-54d3-48f8-8eb2-aafbfba8ab32",
   "metadata": {},
   "source": [
    "Damit sollte es klarer sein, dass der schwarze Punkt am Punkt des minimalen Werts von $L$ liegt. die welligen Artefakte kommen von der mangelhaften Auflösung im erzeugten Grid."
   ]
  },
  {
   "cell_type": "markdown",
   "id": "a564d635-a08e-4010-99ab-f8568ee84e92",
   "metadata": {},
   "source": [
    "## Aufgabe 2: Lineare Regression zur Modellierung von nicht-linearen Zusammenhängen"
   ]
  },
  {
   "cell_type": "markdown",
   "id": "d916555d-6573-47c1-a3c9-acf524912bd4",
   "metadata": {},
   "source": [
    "In dieser zweiten Aufgabe werden wir die in Aufgabe 1 benutzte Regressionsformel auch für nicht-lineare Probleme anwenden. Dabei ist anzumerken, dass die lineare Regression trotzdem linear bleibt, denn uns interessiert nicht die modellierte Funktion selbst, sondern die Koeffizienten $\\beta_i$ des Regressionsproblems."
   ]
  },
  {
   "cell_type": "markdown",
   "id": "39e07bcb-6b29-4be5-a4a8-6a6caf22ed1a",
   "metadata": {},
   "source": [
    "Gegeben seien folgende Wertepaare:"
   ]
  },
  {
   "cell_type": "code",
   "execution_count": null,
   "id": "28389882-19a2-4714-bcdf-927c86cee554",
   "metadata": {},
   "outputs": [],
   "source": [
    "w = np.array(\n",
    "    [[-10. , -21.2], [ -9.5, -12.3], [ -9. ,  -4.2], [ -8.5,   3.7], [ -8. ,   8.2], [ -7.5,   9.7],\n",
    "     [ -7. ,  16.2], [ -6.5,  27.1], [ -6. ,  27.6], [ -5.5,  23.7], [ -5. ,  27.7], [ -4.5,  29.2],\n",
    "     [ -4. ,  34.7], [ -3.5,  39.1], [ -3. ,  32.7], [ -2.5,  37.4], [ -2. ,  42. ], [ -1.5,  37.5],\n",
    "     [ -1. ,  35.9], [ -0.5,  35.9], [  0. ,  36.6], [  0.5,  28.4], [  1. ,  30.2], [  1.5,  28.2],\n",
    "     [  2. ,  21.1], [  2.5,  25.4], [  3. ,  17.1], [  3.5,  16.3], [  4. ,   3.7], [  4.5,  -4.1]]\n",
    ")"
   ]
  },
  {
   "cell_type": "code",
   "execution_count": null,
   "id": "517a94fd-0f97-434d-906a-bd3db74242cb",
   "metadata": {},
   "outputs": [],
   "source": [
    "x = w[:,0]\n",
    "y = w[:,1]\n",
    "plt.scatter( x, y, marker='x', color=\"blue\" )\n",
    "plt.xlabel(\"x\")\n",
    "plt.ylabel(\"y\")"
   ]
  },
  {
   "cell_type": "markdown",
   "id": "05b59475-be20-43a8-8cc9-0965ea98ace0",
   "metadata": {},
   "source": [
    "Die Punkte sind in diesem Fall nicht mehr ungefähr entlang einer Gerade verteilt, sondern eher entlang einer Parabel. Wir versuchen dementsprechend, das Regressionsproblem auf quadratische Funktionen in $x$ zu erweitern:\n",
    "\n",
    "$$\n",
    "\\hat{y}_i = \\beta_0 + \\beta_1 x_i + \\beta_2 x_i^2,\n",
    "$$\n",
    "\n",
    "oder anders geschrieben\n",
    "\n",
    "$$\n",
    "\\hat{\\mathbf{y}} = \\beta_0 + \\beta_1 \\mathbf{x}_1 + \\beta_2 \\mathbf{x}_2,\n",
    "$$\n",
    "\n",
    "wobei $\\mathbf{x}_2$ gerade den *elementweise quadrierten* Werten von $\\mathbf{x}_1$ entspricht. Damit haben wir das Problem einer nicht-linearen Regressionsfunktion auf eine multivariate, lineare Regression reduziert! Dementsprechend können wir die optimalen Parameter $\\beta_i$ mit der gewohnten Formel finden."
   ]
  },
  {
   "cell_type": "markdown",
   "id": "73d7949f-1945-4d66-bfe9-9d47590c0fd4",
   "metadata": {},
   "source": [
    "### a) Vektoren und Matrizen erstellen\n",
    "\n",
    "Erstelle nun wie in der vorherigen Aufgabe die Matrix $X$ und den Vektor $y$. $X$ enthält nun drei Spalten, eine nur mit Einsen, eine mit $\\mathbf{x}_1$ und eine mit $\\mathbf{x}_2$."
   ]
  },
  {
   "cell_type": "code",
   "execution_count": null,
   "id": "acf15bad-c604-4f9a-8b15-78ad24a0cc3c",
   "metadata": {},
   "outputs": [],
   "source": [
    "# DEIN CODE"
   ]
  },
  {
   "cell_type": "markdown",
   "id": "2ec3f407-f5ce-472a-8631-f5702227e0c4",
   "metadata": {},
   "source": [
    "### b) Regressionskurve bestimmen und einzeichnen"
   ]
  },
  {
   "cell_type": "markdown",
   "id": "f3ff08e5-74c8-497c-bc0e-28be1c0d5ffd",
   "metadata": {},
   "source": [
    "Bestimme damit die optimale Lösung $\\boldsymbol{\\beta} \\in \\mathbb{R}^3$ und gib sie aus. Berechne wiederum die Vorhersagen $\\mathbf{\\hat{y}}$ und stelle die gefundene Regressionskurve graphisch im Scatterplot dar."
   ]
  },
  {
   "cell_type": "code",
   "execution_count": null,
   "id": "00776e86-da83-4d44-9943-53c68aa7df94",
   "metadata": {},
   "outputs": [],
   "source": [
    "# DEIN CODE"
   ]
  },
  {
   "cell_type": "markdown",
   "id": "4a8bcf8c-77d7-40ba-a5a0-14b682da5be5",
   "metadata": {},
   "source": [
    "Die Visualisierung des Optimierungsproblems wird jetzt leider schwieriger - für drei Parameter und ein $L$ bräuchten wir einen vierdimensionalen Plot. Trotzdem sieht das Loss Surface wohl ungefähr gleich aus - einfach mit einer Dimension mehr."
   ]
  },
  {
   "cell_type": "markdown",
   "id": "a27eaf70-c01b-4176-9cf3-dc015eca33d8",
   "metadata": {},
   "source": [
    "## Ausblick"
   ]
  },
  {
   "cell_type": "markdown",
   "id": "453331f5-4794-4251-a772-d1904ae55421",
   "metadata": {},
   "source": [
    "Damit kannst du lineare und auch nicht-lineare Regressionsprobleme mit einfacher linearer Algebra lösen! Damit kennst du übrigens auch bereits praktisch die ganze lineare Algebra, die du für die Implementierung von einfachen neuronalen Netzen brauchst. Lineare Regression ist natürlich noch viel mehr als lineare Algebra: Du möchtest typischerweise auch herausfinden, welche deiner Variablen wirklich wichtig sind ('Feature Selection') und wie vertrauenswürdig die Vorhersagen deines Modells wirklich sind. Dazu brauchst du vor allem Statistik - die zur Berechnung gesuchter Grössen sich aber ebenfalls auf die Werkzeuge der linearen Algebra beruft."
   ]
  }
 ],
 "metadata": {
  "kernelspec": {
   "display_name": "Python3",
   "language": "python",
   "name": "python3"
  },
  "language_info": {
   "codemirror_mode": {
    "name": "ipython",
    "version": 3
   },
   "file_extension": ".py",
   "mimetype": "text/x-python",
   "name": "python",
   "nbconvert_exporter": "python",
   "pygments_lexer": "ipython3",
   "version": "3.10.13"
  }
 },
 "nbformat": 4,
 "nbformat_minor": 5
}
