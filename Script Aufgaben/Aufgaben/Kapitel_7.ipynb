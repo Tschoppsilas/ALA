{
 "cells": [
  {
   "cell_type": "code",
   "id": "initial_id",
   "metadata": {
    "collapsed": true,
    "ExecuteTime": {
     "end_time": "2024-07-04T13:26:05.650286Z",
     "start_time": "2024-07-04T13:26:02.121059Z"
    }
   },
   "source": [
    "import numpy as np\n",
    "import matplotlib.pyplot as plt\n",
    "import sympy as sp"
   ],
   "outputs": [],
   "execution_count": 1
  },
  {
   "metadata": {
    "ExecuteTime": {
     "end_time": "2024-07-04T13:30:11.331531Z",
     "start_time": "2024-07-04T13:30:11.323135Z"
    }
   },
   "cell_type": "code",
   "source": [
    "#aufgabe 3\n",
    "A = np.array([[4,-1,-2],[-1,3,-1],[-2,-1,4]])\n",
    "lamb, V = np.linalg.eig(A)\n",
    "sp.Matrix(np.round(V,2))\n",
    "print(lamb)"
   ],
   "id": "81ab53a1eabc5989",
   "outputs": [
    {
     "name": "stdout",
     "output_type": "stream",
     "text": [
      "[1. 6. 4.]\n"
     ]
    }
   ],
   "execution_count": 7
  },
  {
   "metadata": {
    "ExecuteTime": {
     "end_time": "2024-07-04T13:36:37.526861Z",
     "start_time": "2024-07-04T13:36:37.518465Z"
    }
   },
   "cell_type": "code",
   "source": [
    "A = np. array([[4,2],[2,2]])\n",
    "np.linalg.cholesky(A).T"
   ],
   "id": "f8c751528401bfd3",
   "outputs": [
    {
     "data": {
      "text/plain": [
       "array([[2., 1.],\n",
       "       [0., 1.]])"
      ]
     },
     "execution_count": 9,
     "metadata": {},
     "output_type": "execute_result"
    }
   ],
   "execution_count": 9
  }
 ],
 "metadata": {
  "kernelspec": {
   "display_name": "Python 3",
   "language": "python",
   "name": "python3"
  },
  "language_info": {
   "codemirror_mode": {
    "name": "ipython",
    "version": 2
   },
   "file_extension": ".py",
   "mimetype": "text/x-python",
   "name": "python",
   "nbconvert_exporter": "python",
   "pygments_lexer": "ipython2",
   "version": "2.7.6"
  }
 },
 "nbformat": 4,
 "nbformat_minor": 5
}
