{
 "cells": [
  {
   "cell_type": "code",
   "id": "initial_id",
   "metadata": {
    "collapsed": true,
    "ExecuteTime": {
     "end_time": "2024-07-04T08:14:35.267452Z",
     "start_time": "2024-07-04T08:14:34.315841Z"
    }
   },
   "source": [
    "import numpy as np\n",
    "import sympy as sp"
   ],
   "outputs": [],
   "execution_count": 40
  },
  {
   "metadata": {
    "ExecuteTime": {
     "end_time": "2024-07-04T08:07:57.497451Z",
     "start_time": "2024-07-04T08:07:57.488940Z"
    }
   },
   "cell_type": "code",
   "source": "A = np.array([[89,75,22,102],[75,116,27,120],[22,27,33,62],[102,120,62,200]])",
   "id": "ebbdc10e545b7700",
   "outputs": [],
   "execution_count": 26
  },
  {
   "metadata": {
    "ExecuteTime": {
     "end_time": "2024-07-04T07:49:40.575387Z",
     "start_time": "2024-07-04T07:49:40.568539Z"
    }
   },
   "cell_type": "code",
   "source": [
    "#Aufgabe A\n",
    "ew,ev = np.linalg.eig(A)\n",
    "print(\"ew\\n\", ew)\n",
    "print(\"ev\\n\", ev)"
   ],
   "id": "a94037735bc25955",
   "outputs": [
    {
     "name": "stdout",
     "output_type": "stream",
     "text": [
      "ew\n",
      " [361.75382302  42.74593101  26.33718907   7.16305691]\n",
      "ev\n",
      " [[-0.42552429 -0.42476765  0.76464379 -0.23199439]\n",
      " [-0.50507589 -0.54267519 -0.64193252 -0.19576676]\n",
      " [-0.20612674  0.54869183 -0.05515612 -0.80833585]\n",
      " [-0.72203822  0.4733005   0.01415338  0.50442752]]\n"
     ]
    }
   ],
   "execution_count": 6
  },
  {
   "metadata": {
    "ExecuteTime": {
     "end_time": "2024-07-04T08:13:44.238152Z",
     "start_time": "2024-07-04T08:13:44.227788Z"
    }
   },
   "cell_type": "code",
   "source": [
    "#Aufgabe b\n",
    "print(np.round(ev@ev.T))"
   ],
   "id": "e4755eb1892e176f",
   "outputs": [
    {
     "name": "stdout",
     "output_type": "stream",
     "text": [
      "[[ 1.  0. -0.  0.]\n",
      " [ 0.  1. -0. -0.]\n",
      " [-0. -0.  1.  0.]\n",
      " [ 0. -0.  0.  1.]]\n"
     ]
    }
   ],
   "execution_count": 38
  },
  {
   "metadata": {
    "ExecuteTime": {
     "end_time": "2024-07-04T08:18:26.465813Z",
     "start_time": "2024-07-04T08:18:26.453044Z"
    }
   },
   "cell_type": "code",
   "source": [
    "#Augabe c\n",
    "V=ev\n",
    "V_inv = np.linalg.inv(V)\n",
    "A_diag = np.round(V_inv.dot(A).dot(V))\n",
    "sp.Matrix(A_diag)"
   ],
   "id": "633638784965559d",
   "outputs": [
    {
     "data": {
      "text/plain": [
       "Matrix([\n",
       "[362.0,    0,    0,   0],\n",
       "[    0, 43.0,    0,   0],\n",
       "[    0,    0, 26.0,   0],\n",
       "[    0,    0,    0, 7.0]])"
      ],
      "text/latex": "$\\displaystyle \\left[\\begin{matrix}362.0 & 0 & 0 & 0\\\\0 & 43.0 & 0 & 0\\\\0 & 0 & 26.0 & 0\\\\0 & 0 & 0 & 7.0\\end{matrix}\\right]$"
     },
     "execution_count": 49,
     "metadata": {},
     "output_type": "execute_result"
    }
   ],
   "execution_count": 49
  },
  {
   "metadata": {
    "ExecuteTime": {
     "end_time": "2024-07-04T08:15:02.553671Z",
     "start_time": "2024-07-04T08:15:02.542312Z"
    }
   },
   "cell_type": "code",
   "source": [
    "#Aufgabe d 1\n",
    "res = np.eye( A.shape[0] )\n",
    "for i in range(20):\n",
    "    res = res.dot(A)\n",
    "sp.Matrix(res)"
   ],
   "id": "86e2bfaa448bb44",
   "outputs": [
    {
     "data": {
      "text/plain": [
       "Matrix([\n",
       "[2.66754227097944e+50, 3.16623820859875e+50, 1.29217483659217e+50, 4.52633961205365e+50],\n",
       "[3.16623820859875e+50, 3.75816514799211e+50, 1.53374639431891e+50, 5.37253695309439e+50],\n",
       "[1.29217483659217e+50, 1.53374639431891e+50, 6.25937900398833e+49, 2.19258836577634e+50],\n",
       "[4.52633961205365e+50, 5.37253695309438e+50, 2.19258836577634e+50, 7.68038448969867e+50]])"
      ],
      "text/latex": "$\\displaystyle \\left[\\begin{matrix}2.66754227097944 \\cdot 10^{50} & 3.16623820859875 \\cdot 10^{50} & 1.29217483659217 \\cdot 10^{50} & 4.52633961205365 \\cdot 10^{50}\\\\3.16623820859875 \\cdot 10^{50} & 3.75816514799211 \\cdot 10^{50} & 1.53374639431891 \\cdot 10^{50} & 5.37253695309439 \\cdot 10^{50}\\\\1.29217483659217 \\cdot 10^{50} & 1.53374639431891 \\cdot 10^{50} & 6.25937900398833 \\cdot 10^{49} & 2.19258836577634 \\cdot 10^{50}\\\\4.52633961205365 \\cdot 10^{50} & 5.37253695309438 \\cdot 10^{50} & 2.19258836577634 \\cdot 10^{50} & 7.68038448969867 \\cdot 10^{50}\\end{matrix}\\right]$"
     },
     "execution_count": 43,
     "metadata": {},
     "output_type": "execute_result"
    }
   ],
   "execution_count": 43
  },
  {
   "metadata": {
    "ExecuteTime": {
     "end_time": "2024-07-04T08:14:55.638410Z",
     "start_time": "2024-07-04T08:14:55.628575Z"
    }
   },
   "cell_type": "code",
   "source": [
    "#Aufgabe d 2\n",
    "res = V @ D**20 @ np.linalg.inv(V)\n",
    "sp.Matrix(res)"
   ],
   "id": "587b4d52db386ad0",
   "outputs": [
    {
     "data": {
      "text/plain": [
       "Matrix([\n",
       "[ 2.6675422709794e+50, 3.16623820859871e+50, 1.29217483659216e+50,  4.5263396120536e+50],\n",
       "[3.16623820859871e+50, 3.75816514799206e+50, 1.53374639431889e+50, 5.37253695309431e+50],\n",
       "[1.29217483659215e+50, 1.53374639431889e+50, 6.25937900398826e+49, 2.19258836577631e+50],\n",
       "[ 4.5263396120536e+50, 5.37253695309432e+50, 2.19258836577631e+50, 7.68038448969858e+50]])"
      ],
      "text/latex": "$\\displaystyle \\left[\\begin{matrix}2.6675422709794 \\cdot 10^{50} & 3.16623820859871 \\cdot 10^{50} & 1.29217483659216 \\cdot 10^{50} & 4.5263396120536 \\cdot 10^{50}\\\\3.16623820859871 \\cdot 10^{50} & 3.75816514799206 \\cdot 10^{50} & 1.53374639431889 \\cdot 10^{50} & 5.37253695309431 \\cdot 10^{50}\\\\1.29217483659215 \\cdot 10^{50} & 1.53374639431889 \\cdot 10^{50} & 6.25937900398826 \\cdot 10^{49} & 2.19258836577631 \\cdot 10^{50}\\\\4.5263396120536 \\cdot 10^{50} & 5.37253695309432 \\cdot 10^{50} & 2.19258836577631 \\cdot 10^{50} & 7.68038448969858 \\cdot 10^{50}\\end{matrix}\\right]$"
     },
     "execution_count": 42,
     "metadata": {},
     "output_type": "execute_result"
    }
   ],
   "execution_count": 42
  },
  {
   "metadata": {
    "ExecuteTime": {
     "end_time": "2024-07-04T08:14:40.241582Z",
     "start_time": "2024-07-04T08:14:40.228474Z"
    }
   },
   "cell_type": "code",
   "source": [
    "#Aufgabe d 3\n",
    "A_3 = np.linalg.matrix_power(A, 20)\n",
    "sp.Matrix(res)"
   ],
   "id": "4230576c9c1f0c8b",
   "outputs": [
    {
     "data": {
      "text/plain": [
       "Matrix([\n",
       "[2.66754227097944e+50, 3.16623820859875e+50, 1.29217483659217e+50, 4.52633961205365e+50],\n",
       "[3.16623820859875e+50, 3.75816514799211e+50, 1.53374639431891e+50, 5.37253695309439e+50],\n",
       "[1.29217483659217e+50, 1.53374639431891e+50, 6.25937900398833e+49, 2.19258836577634e+50],\n",
       "[4.52633961205365e+50, 5.37253695309438e+50, 2.19258836577634e+50, 7.68038448969867e+50]])"
      ],
      "text/latex": "$\\displaystyle \\left[\\begin{matrix}2.66754227097944 \\cdot 10^{50} & 3.16623820859875 \\cdot 10^{50} & 1.29217483659217 \\cdot 10^{50} & 4.52633961205365 \\cdot 10^{50}\\\\3.16623820859875 \\cdot 10^{50} & 3.75816514799211 \\cdot 10^{50} & 1.53374639431891 \\cdot 10^{50} & 5.37253695309439 \\cdot 10^{50}\\\\1.29217483659217 \\cdot 10^{50} & 1.53374639431891 \\cdot 10^{50} & 6.25937900398833 \\cdot 10^{49} & 2.19258836577634 \\cdot 10^{50}\\\\4.52633961205365 \\cdot 10^{50} & 5.37253695309438 \\cdot 10^{50} & 2.19258836577634 \\cdot 10^{50} & 7.68038448969867 \\cdot 10^{50}\\end{matrix}\\right]$"
     },
     "execution_count": 41,
     "metadata": {},
     "output_type": "execute_result"
    }
   ],
   "execution_count": 41
  }
 ],
 "metadata": {
  "kernelspec": {
   "display_name": "Python 3",
   "language": "python",
   "name": "python3"
  },
  "language_info": {
   "codemirror_mode": {
    "name": "ipython",
    "version": 2
   },
   "file_extension": ".py",
   "mimetype": "text/x-python",
   "name": "python",
   "nbconvert_exporter": "python",
   "pygments_lexer": "ipython2",
   "version": "2.7.6"
  }
 },
 "nbformat": 4,
 "nbformat_minor": 5
}
