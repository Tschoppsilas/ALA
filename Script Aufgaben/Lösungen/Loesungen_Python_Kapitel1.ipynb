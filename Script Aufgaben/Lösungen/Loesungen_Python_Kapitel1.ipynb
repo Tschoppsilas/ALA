{
 "cells": [
  {
   "cell_type": "markdown",
   "metadata": {},
   "source": [
    "# Lösungen zu den Python-Aufgaben aus Kapitel 1"
   ]
  },
  {
   "cell_type": "code",
   "execution_count": 1,
   "metadata": {},
   "outputs": [],
   "source": [
    "import numpy as np\n",
    "import sympy as sp\n",
    "import matplotlib.pyplot as plt\n",
    "from IPython.display import display"
   ]
  },
  {
   "cell_type": "markdown",
   "metadata": {},
   "source": [
    "## Aufgabe 4"
   ]
  },
  {
   "cell_type": "markdown",
   "metadata": {},
   "source": [
    "### a)"
   ]
  },
  {
   "cell_type": "code",
   "execution_count": 2,
   "metadata": {},
   "outputs": [],
   "source": [
    "M1 = np.array([[7,8],[0,9]])\n",
    "ew, ev = np.linalg.eig( M1 )"
   ]
  },
  {
   "cell_type": "markdown",
   "metadata": {},
   "source": [
    "Eigenwerte:"
   ]
  },
  {
   "cell_type": "code",
   "execution_count": 3,
   "metadata": {},
   "outputs": [
    {
     "data": {
      "text/plain": [
       "[7.0, 9.0]"
      ]
     },
     "execution_count": 3,
     "metadata": {},
     "output_type": "execute_result"
    }
   ],
   "source": [
    "list( ew )"
   ]
  },
  {
   "cell_type": "markdown",
   "metadata": {},
   "source": [
    "Eigenvektoren (normalisiert):"
   ]
  },
  {
   "cell_type": "code",
   "execution_count": 4,
   "metadata": {},
   "outputs": [
    {
     "data": {
      "text/latex": [
       "$\\displaystyle \\left[\\begin{matrix}1.0\\\\0\\end{matrix}\\right]$"
      ],
      "text/plain": [
       "Matrix([\n",
       "[1.0],\n",
       "[  0]])"
      ]
     },
     "metadata": {},
     "output_type": "display_data"
    },
    {
     "data": {
      "text/latex": [
       "$\\displaystyle \\left[\\begin{matrix}0.9701\\\\0.2425\\end{matrix}\\right]$"
      ],
      "text/plain": [
       "Matrix([\n",
       "[0.9701],\n",
       "[0.2425]])"
      ]
     },
     "metadata": {},
     "output_type": "display_data"
    }
   ],
   "source": [
    "for k in range( M1.shape[0] ):\n",
    "    display( sp.Matrix( np.round( ev[:,k], 4 ) ) ) "
   ]
  },
  {
   "cell_type": "markdown",
   "metadata": {},
   "source": [
    "### d)"
   ]
  },
  {
   "cell_type": "code",
   "execution_count": 5,
   "metadata": {},
   "outputs": [],
   "source": [
    "M2 = np.array([[0,-1],[1,2]])\n",
    "ew, ev = np.linalg.eig( M2 )"
   ]
  },
  {
   "cell_type": "markdown",
   "metadata": {},
   "source": [
    "Eigenwerte:"
   ]
  },
  {
   "cell_type": "code",
   "execution_count": 6,
   "metadata": {},
   "outputs": [
    {
     "data": {
      "text/plain": [
       "array([1., 1.])"
      ]
     },
     "execution_count": 6,
     "metadata": {},
     "output_type": "execute_result"
    }
   ],
   "source": [
    "ew"
   ]
  },
  {
   "cell_type": "markdown",
   "metadata": {},
   "source": [
    "Algebraische Vielfachheit 1."
   ]
  },
  {
   "cell_type": "markdown",
   "metadata": {},
   "source": [
    "Eigenvektoren (normalisiert):"
   ]
  },
  {
   "cell_type": "code",
   "execution_count": 7,
   "metadata": {},
   "outputs": [
    {
     "data": {
      "text/latex": [
       "$\\displaystyle \\left[\\begin{matrix}-0.7071\\\\0.7071\\end{matrix}\\right]$"
      ],
      "text/plain": [
       "Matrix([\n",
       "[-0.7071],\n",
       "[ 0.7071]])"
      ]
     },
     "metadata": {},
     "output_type": "display_data"
    },
    {
     "data": {
      "text/latex": [
       "$\\displaystyle \\left[\\begin{matrix}-0.7071\\\\0.7071\\end{matrix}\\right]$"
      ],
      "text/plain": [
       "Matrix([\n",
       "[-0.7071],\n",
       "[ 0.7071]])"
      ]
     },
     "metadata": {},
     "output_type": "display_data"
    }
   ],
   "source": [
    "for k in range( M2.shape[0] ):\n",
    "    display( sp.Matrix( np.round( ev[:,k], 4 ) ) ) "
   ]
  },
  {
   "cell_type": "markdown",
   "metadata": {},
   "source": [
    "Zweimal der gleiche Vektor, geometrische Vielfachheit 1."
   ]
  },
  {
   "cell_type": "markdown",
   "metadata": {},
   "source": [
    "### l)"
   ]
  },
  {
   "cell_type": "code",
   "execution_count": 8,
   "metadata": {},
   "outputs": [],
   "source": [
    "M3 = np.array([[1,0,0],[-5,0,2],[0,0,1]])\n",
    "ew, ev = np.linalg.eig( M3 )"
   ]
  },
  {
   "cell_type": "markdown",
   "metadata": {},
   "source": [
    "Eigenwerte:"
   ]
  },
  {
   "cell_type": "code",
   "execution_count": 9,
   "metadata": {},
   "outputs": [
    {
     "data": {
      "text/plain": [
       "array([0., 1., 1.])"
      ]
     },
     "execution_count": 9,
     "metadata": {},
     "output_type": "execute_result"
    }
   ],
   "source": [
    "ew"
   ]
  },
  {
   "cell_type": "markdown",
   "metadata": {},
   "source": [
    "Algebraische Vielfachheit 1 für Eigenwert 0 und 2 für Eigenwert 1."
   ]
  },
  {
   "cell_type": "markdown",
   "metadata": {},
   "source": [
    "Eigenvektoren (normalisiert):"
   ]
  },
  {
   "cell_type": "code",
   "execution_count": 10,
   "metadata": {},
   "outputs": [
    {
     "data": {
      "text/latex": [
       "$\\displaystyle \\left[\\begin{matrix}0\\\\1.0\\\\0\\end{matrix}\\right]$"
      ],
      "text/plain": [
       "Matrix([\n",
       "[  0],\n",
       "[1.0],\n",
       "[  0]])"
      ]
     },
     "metadata": {},
     "output_type": "display_data"
    },
    {
     "data": {
      "text/latex": [
       "$\\displaystyle \\left[\\begin{matrix}0.1961\\\\-0.9806\\\\0\\end{matrix}\\right]$"
      ],
      "text/plain": [
       "Matrix([\n",
       "[ 0.1961],\n",
       "[-0.9806],\n",
       "[      0]])"
      ]
     },
     "metadata": {},
     "output_type": "display_data"
    },
    {
     "data": {
      "text/latex": [
       "$\\displaystyle \\left[\\begin{matrix}0\\\\0.8944\\\\0.4472\\end{matrix}\\right]$"
      ],
      "text/plain": [
       "Matrix([\n",
       "[     0],\n",
       "[0.8944],\n",
       "[0.4472]])"
      ]
     },
     "metadata": {},
     "output_type": "display_data"
    }
   ],
   "source": [
    "for k in range( M3.shape[0] ):\n",
    "    display( sp.Matrix( np.round( ev[:,k], 4 ) ) ) "
   ]
  },
  {
   "cell_type": "markdown",
   "metadata": {},
   "source": [
    "Geometrische Vielfachheit 1 für Eigenwert 0 und 2 für Eigenwert 1."
   ]
  },
  {
   "cell_type": "markdown",
   "metadata": {},
   "source": [
    "### m)"
   ]
  },
  {
   "cell_type": "code",
   "execution_count": 11,
   "metadata": {},
   "outputs": [],
   "source": [
    "M4 = np.array([[1,1,0],[0,-1,-1],[2,2,0]])\n",
    "ew, ev = np.linalg.eig( M4 )"
   ]
  },
  {
   "cell_type": "markdown",
   "metadata": {},
   "source": [
    "Eigenwerte:"
   ]
  },
  {
   "cell_type": "code",
   "execution_count": 12,
   "metadata": {},
   "outputs": [
    {
     "data": {
      "text/plain": [
       "array([ 1.10346248e-15+0.j, -2.08166817e-16+1.j, -2.08166817e-16-1.j])"
      ]
     },
     "execution_count": 12,
     "metadata": {},
     "output_type": "execute_result"
    }
   ],
   "source": [
    "ew"
   ]
  },
  {
   "cell_type": "markdown",
   "metadata": {},
   "source": [
    "Numerische Artefakte bereinigt:"
   ]
  },
  {
   "cell_type": "code",
   "execution_count": 13,
   "metadata": {},
   "outputs": [
    {
     "data": {
      "text/plain": [
       "array([ 0.+0.j, -0.+1.j, -0.-1.j])"
      ]
     },
     "execution_count": 13,
     "metadata": {},
     "output_type": "execute_result"
    }
   ],
   "source": [
    "np.round( ew, 10 )"
   ]
  },
  {
   "cell_type": "markdown",
   "metadata": {},
   "source": [
    "Die Eigenwerte sind komplex!"
   ]
  },
  {
   "cell_type": "markdown",
   "metadata": {},
   "source": [
    "Eigenvektoren (normalisiert):"
   ]
  },
  {
   "cell_type": "code",
   "execution_count": 14,
   "metadata": {},
   "outputs": [
    {
     "data": {
      "text/latex": [
       "$\\displaystyle \\left[\\begin{matrix}0.5774\\\\-0.5774\\\\0.5774\\end{matrix}\\right]$"
      ],
      "text/plain": [
       "Matrix([\n",
       "[ 0.5774],\n",
       "[-0.5774],\n",
       "[ 0.5774]])"
      ]
     },
     "metadata": {},
     "output_type": "display_data"
    },
    {
     "data": {
      "text/latex": [
       "$\\displaystyle \\left[\\begin{matrix}-0.378\\\\0.378 - 0.378 i\\\\-0.7559\\end{matrix}\\right]$"
      ],
      "text/plain": [
       "Matrix([\n",
       "[         -0.378],\n",
       "[0.378 - 0.378*I],\n",
       "[        -0.7559]])"
      ]
     },
     "metadata": {},
     "output_type": "display_data"
    },
    {
     "data": {
      "text/latex": [
       "$\\displaystyle \\left[\\begin{matrix}-0.378\\\\0.378 + 0.378 i\\\\-0.7559\\end{matrix}\\right]$"
      ],
      "text/plain": [
       "Matrix([\n",
       "[         -0.378],\n",
       "[0.378 + 0.378*I],\n",
       "[        -0.7559]])"
      ]
     },
     "metadata": {},
     "output_type": "display_data"
    }
   ],
   "source": [
    "for k in range( M4.shape[0] ):\n",
    "    display( sp.Matrix( np.round( ev[:,k], 4 ) ) ) "
   ]
  },
  {
   "cell_type": "markdown",
   "metadata": {},
   "source": [
    "im Allgemeinen ebenfalls komplex!"
   ]
  },
  {
   "cell_type": "markdown",
   "metadata": {},
   "source": [
    "## Aufgabe 16"
   ]
  },
  {
   "cell_type": "code",
   "execution_count": 15,
   "metadata": {},
   "outputs": [
    {
     "data": {
      "text/plain": [
       "array([[ 89.,  75.,  22., 102.],\n",
       "       [ 75., 116.,  27., 120.],\n",
       "       [ 22.,  27.,  33.,  62.],\n",
       "       [102., 120.,  62., 200.]])"
      ]
     },
     "execution_count": 15,
     "metadata": {},
     "output_type": "execute_result"
    }
   ],
   "source": [
    "A = np.array([[89,75,22,102],[75,116,27,120],[22,27,33,62],[102,120,62,200]], dtype=float)\n",
    "A"
   ]
  },
  {
   "cell_type": "markdown",
   "metadata": {},
   "source": [
    "### a)"
   ]
  },
  {
   "cell_type": "markdown",
   "metadata": {},
   "source": [
    "Berechung der Eigenwerte und Eigenvektoren:"
   ]
  },
  {
   "cell_type": "code",
   "execution_count": 16,
   "metadata": {},
   "outputs": [],
   "source": [
    "ew, ev = np.linalg.eig(A)"
   ]
  },
  {
   "cell_type": "markdown",
   "metadata": {},
   "source": [
    "Eigenwerte:"
   ]
  },
  {
   "cell_type": "code",
   "execution_count": 17,
   "metadata": {},
   "outputs": [
    {
     "data": {
      "text/plain": [
       "array([361.75382302,  42.74593101,  26.33718907,   7.16305691])"
      ]
     },
     "execution_count": 17,
     "metadata": {},
     "output_type": "execute_result"
    }
   ],
   "source": [
    "ew"
   ]
  },
  {
   "cell_type": "markdown",
   "metadata": {},
   "source": [
    "Eigenvektoren (Spaltenvektoren):"
   ]
  },
  {
   "cell_type": "code",
   "execution_count": 18,
   "metadata": {},
   "outputs": [
    {
     "data": {
      "text/plain": [
       "array([[-0.42552429, -0.42476765,  0.76464379, -0.23199439],\n",
       "       [-0.50507589, -0.54267519, -0.64193252, -0.19576676],\n",
       "       [-0.20612674,  0.54869183, -0.05515612, -0.80833585],\n",
       "       [-0.72203822,  0.4733005 ,  0.01415338,  0.50442752]])"
      ]
     },
     "execution_count": 18,
     "metadata": {},
     "output_type": "execute_result"
    }
   ],
   "source": [
    "ev"
   ]
  },
  {
   "cell_type": "markdown",
   "metadata": {},
   "source": [
    "### b)"
   ]
  },
  {
   "cell_type": "code",
   "execution_count": 19,
   "metadata": {},
   "outputs": [
    {
     "data": {
      "text/plain": [
       "array([[ 1.,  0., -0., -0.],\n",
       "       [ 0.,  1., -0.,  0.],\n",
       "       [-0., -0.,  1.,  0.],\n",
       "       [-0.,  0.,  0.,  1.]])"
      ]
     },
     "execution_count": 19,
     "metadata": {},
     "output_type": "execute_result"
    }
   ],
   "source": [
    "S = np.zeros([ev.shape[1], ev.shape[1]])\n",
    "\n",
    "for i in range(ev.shape[1]):\n",
    "    for j in range(ev.shape[1]):\n",
    "        S[i,j] = np.vdot( ev[:,i], ev[:,j])\n",
    "\n",
    "np.round( S, 10 )"
   ]
  },
  {
   "cell_type": "markdown",
   "metadata": {},
   "source": [
    "Die Skalarprodukte der Eigenvektoren $\\mathbf{v}_i$ und $\\mathbf{v}_j$ sind gleich null für alle $i\\neq j$ und damit stehen alle Eigenvektoren orthogonal zueinander. Die Eigenvektoren stehen orthogonal zueinander, weil die Matrix $A$ symmetrisch ist (Beweis siehe Skript)."
   ]
  },
  {
   "cell_type": "markdown",
   "metadata": {},
   "source": [
    "Obiger Code ohne `for`-Loops (überlegen Sie sich, warum das das gleiche ist - Hinweis: Definition des Matrizenprodukts):"
   ]
  },
  {
   "cell_type": "code",
   "execution_count": 20,
   "metadata": {},
   "outputs": [
    {
     "data": {
      "text/plain": [
       "array([[ 1.,  0., -0., -0.],\n",
       "       [ 0.,  1., -0.,  0.],\n",
       "       [-0., -0.,  1.,  0.],\n",
       "       [-0.,  0.,  0.,  1.]])"
      ]
     },
     "execution_count": 20,
     "metadata": {},
     "output_type": "execute_result"
    }
   ],
   "source": [
    "np.round( np.dot( ev.T, ev ), 10 )"
   ]
  },
  {
   "cell_type": "markdown",
   "metadata": {},
   "source": [
    "### c)"
   ]
  },
  {
   "cell_type": "code",
   "execution_count": 21,
   "metadata": {},
   "outputs": [
    {
     "data": {
      "text/plain": [
       "array([[361.75382302,   0.        ,  -0.        ,  -0.        ],\n",
       "       [ -0.        ,  42.74593101,  -0.        ,   0.        ],\n",
       "       [ -0.        ,   0.        ,  26.33718907,   0.        ],\n",
       "       [  0.        ,   0.        ,  -0.        ,   7.16305691]])"
      ]
     },
     "execution_count": 21,
     "metadata": {},
     "output_type": "execute_result"
    }
   ],
   "source": [
    "V = ev\n",
    "Vinv = np.linalg.inv(V)\n",
    "D = np.round( Vinv.dot(A).dot(V), 10 )\n",
    "D"
   ]
  },
  {
   "cell_type": "markdown",
   "metadata": {},
   "source": [
    "### d)"
   ]
  },
  {
   "cell_type": "markdown",
   "metadata": {},
   "source": [
    "Matrix $A$ 20x mit sich selbst multiplizieren:"
   ]
  },
  {
   "cell_type": "code",
   "execution_count": 22,
   "metadata": {},
   "outputs": [
    {
     "name": "stdout",
     "output_type": "stream",
     "text": [
      "14.8 µs ± 53.5 ns per loop (mean ± std. dev. of 7 runs, 100,000 loops each)\n"
     ]
    }
   ],
   "source": [
    "%%timeit\n",
    "res = np.eye( A.shape[0] )\n",
    "for i in range(20):\n",
    "    res = res.dot(A)"
   ]
  },
  {
   "cell_type": "markdown",
   "metadata": {},
   "source": [
    "(Code noch einmal wiederholen, %%timeit speichert keine Variablen ausserhalb seines Scope)"
   ]
  },
  {
   "cell_type": "code",
   "execution_count": 23,
   "metadata": {},
   "outputs": [
    {
     "data": {
      "text/latex": [
       "$\\displaystyle \\left[\\begin{matrix}2.66754227097944 \\cdot 10^{50} & 3.16623820859875 \\cdot 10^{50} & 1.29217483659217 \\cdot 10^{50} & 4.52633961205365 \\cdot 10^{50}\\\\3.16623820859875 \\cdot 10^{50} & 3.75816514799211 \\cdot 10^{50} & 1.53374639431891 \\cdot 10^{50} & 5.37253695309438 \\cdot 10^{50}\\\\1.29217483659217 \\cdot 10^{50} & 1.53374639431891 \\cdot 10^{50} & 6.25937900398834 \\cdot 10^{49} & 2.19258836577634 \\cdot 10^{50}\\\\4.52633961205366 \\cdot 10^{50} & 5.37253695309438 \\cdot 10^{50} & 2.19258836577634 \\cdot 10^{50} & 7.68038448969867 \\cdot 10^{50}\\end{matrix}\\right]$"
      ],
      "text/plain": [
       "Matrix([\n",
       "[2.66754227097944e+50, 3.16623820859875e+50, 1.29217483659217e+50, 4.52633961205365e+50],\n",
       "[3.16623820859875e+50, 3.75816514799211e+50, 1.53374639431891e+50, 5.37253695309438e+50],\n",
       "[1.29217483659217e+50, 1.53374639431891e+50, 6.25937900398834e+49, 2.19258836577634e+50],\n",
       "[4.52633961205366e+50, 5.37253695309438e+50, 2.19258836577634e+50, 7.68038448969867e+50]])"
      ]
     },
     "execution_count": 23,
     "metadata": {},
     "output_type": "execute_result"
    }
   ],
   "source": [
    "res = np.eye( A.shape[0] )\n",
    "for i in range(20):\n",
    "    res = res.dot(A)\n",
    "sp.Matrix(res) # Sympy kann Latex-Ausgabe"
   ]
  },
  {
   "cell_type": "markdown",
   "metadata": {},
   "source": [
    "Mit `np.linalg.matrix_power()`:"
   ]
  },
  {
   "cell_type": "code",
   "execution_count": 24,
   "metadata": {},
   "outputs": [
    {
     "name": "stdout",
     "output_type": "stream",
     "text": [
      "8.77 µs ± 8.7 ns per loop (mean ± std. dev. of 7 runs, 100,000 loops each)\n"
     ]
    }
   ],
   "source": [
    "%%timeit\n",
    "res = np.linalg.matrix_power(A, 20)"
   ]
  },
  {
   "cell_type": "code",
   "execution_count": 25,
   "metadata": {},
   "outputs": [
    {
     "data": {
      "text/latex": [
       "$\\displaystyle \\left[\\begin{matrix}2.66754227097944 \\cdot 10^{50} & 3.16623820859875 \\cdot 10^{50} & 1.29217483659217 \\cdot 10^{50} & 4.52633961205365 \\cdot 10^{50}\\\\3.16623820859875 \\cdot 10^{50} & 3.75816514799211 \\cdot 10^{50} & 1.53374639431891 \\cdot 10^{50} & 5.37253695309438 \\cdot 10^{50}\\\\1.29217483659217 \\cdot 10^{50} & 1.53374639431891 \\cdot 10^{50} & 6.25937900398834 \\cdot 10^{49} & 2.19258836577634 \\cdot 10^{50}\\\\4.52633961205365 \\cdot 10^{50} & 5.37253695309438 \\cdot 10^{50} & 2.19258836577634 \\cdot 10^{50} & 7.68038448969867 \\cdot 10^{50}\\end{matrix}\\right]$"
      ],
      "text/plain": [
       "Matrix([\n",
       "[2.66754227097944e+50, 3.16623820859875e+50, 1.29217483659217e+50, 4.52633961205365e+50],\n",
       "[3.16623820859875e+50, 3.75816514799211e+50, 1.53374639431891e+50, 5.37253695309438e+50],\n",
       "[1.29217483659217e+50, 1.53374639431891e+50, 6.25937900398834e+49, 2.19258836577634e+50],\n",
       "[4.52633961205365e+50, 5.37253695309438e+50, 2.19258836577634e+50, 7.68038448969867e+50]])"
      ]
     },
     "execution_count": 25,
     "metadata": {},
     "output_type": "execute_result"
    }
   ],
   "source": [
    "res = np.linalg.matrix_power(A, 20)\n",
    "sp.Matrix(res)"
   ]
  },
  {
   "cell_type": "markdown",
   "metadata": {},
   "source": [
    "Mit berechneter Diagonalmatrix:"
   ]
  },
  {
   "cell_type": "code",
   "execution_count": 26,
   "metadata": {},
   "outputs": [
    {
     "name": "stdout",
     "output_type": "stream",
     "text": [
      "4.69 µs ± 2.89 ns per loop (mean ± std. dev. of 7 runs, 100,000 loops each)\n"
     ]
    }
   ],
   "source": [
    "%%timeit\n",
    "res = Vinv @ D ** 20 @ V"
   ]
  },
  {
   "cell_type": "code",
   "execution_count": 27,
   "metadata": {},
   "outputs": [
    {
     "data": {
      "text/latex": [
       "$\\displaystyle \\left[\\begin{matrix}2.66754227098428 \\cdot 10^{50} & 2.66279899310823 \\cdot 10^{50} & -4.79342694656279 \\cdot 10^{50} & 1.45433493939433 \\cdot 10^{50}\\\\2.66279899310822 \\cdot 10^{50} & 2.65806414946966 \\cdot 10^{50} & -4.78490353674341 \\cdot 10^{50} & 1.45174892048942 \\cdot 10^{50}\\\\-4.79342694656279 \\cdot 10^{50} & -4.78490353674342 \\cdot 10^{50} & 8.61352494465107 \\cdot 10^{50} & -2.61336000694312 \\cdot 10^{50}\\\\1.45433493939433 \\cdot 10^{50} & 1.45174892048943 \\cdot 10^{50} & -2.61336000694313 \\cdot 10^{50} & 7.92898443990797 \\cdot 10^{49}\\end{matrix}\\right]$"
      ],
      "text/plain": [
       "Matrix([\n",
       "[ 2.66754227098428e+50,  2.66279899310823e+50, -4.79342694656279e+50,  1.45433493939433e+50],\n",
       "[ 2.66279899310822e+50,  2.65806414946966e+50, -4.78490353674341e+50,  1.45174892048942e+50],\n",
       "[-4.79342694656279e+50, -4.78490353674342e+50,  8.61352494465107e+50, -2.61336000694312e+50],\n",
       "[ 1.45433493939433e+50,  1.45174892048943e+50, -2.61336000694313e+50,  7.92898443990797e+49]])"
      ]
     },
     "execution_count": 27,
     "metadata": {},
     "output_type": "execute_result"
    }
   ],
   "source": [
    "res = Vinv @ D ** 20 @ V\n",
    "sp.Matrix(res)"
   ]
  },
  {
   "cell_type": "markdown",
   "metadata": {},
   "source": [
    "Sind $V, V^{-1}$ und die Diagonalmatrix $D$ schon berechnet, ist der letzte Ansatz der schnellste."
   ]
  }
 ],
 "metadata": {
  "kernelspec": {
   "display_name": "Python 3 (ipykernel)",
   "language": "python",
   "name": "python3"
  },
  "language_info": {
   "codemirror_mode": {
    "name": "ipython",
    "version": 3
   },
   "file_extension": ".py",
   "mimetype": "text/x-python",
   "name": "python",
   "nbconvert_exporter": "python",
   "pygments_lexer": "ipython3",
   "version": "3.10.13"
  }
 },
 "nbformat": 4,
 "nbformat_minor": 2
}
