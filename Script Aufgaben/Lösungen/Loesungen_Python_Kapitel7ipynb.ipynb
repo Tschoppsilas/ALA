{
 "cells": [
  {
   "cell_type": "markdown",
   "id": "6378e1a9-d0fc-4c44-b126-7d9c33cb2d25",
   "metadata": {},
   "source": [
    "# Lösungen zu den Python-Aufgaben aus Kapitel 7"
   ]
  },
  {
   "cell_type": "markdown",
   "id": "d9bfc8ff-89f7-4456-ab25-42c6d79cc440",
   "metadata": {},
   "source": [
    "Bibliotheken laden:"
   ]
  },
  {
   "cell_type": "code",
   "execution_count": 12,
   "id": "0778cdf9-3147-481c-993a-953ec2682fdc",
   "metadata": {},
   "outputs": [],
   "source": [
    "import numpy as np\n",
    "import sympy as sp\n",
    "import matplotlib.pyplot as plt"
   ]
  },
  {
   "cell_type": "markdown",
   "id": "a65b70e7-bb39-4923-8df2-c4b213eeda37",
   "metadata": {},
   "source": [
    "## Aufgabe 3"
   ]
  },
  {
   "cell_type": "markdown",
   "id": "820cd7a8-8bc9-4394-9a95-e7151d2f4214",
   "metadata": {},
   "source": [
    "Matrix in Sympy definieren (dann kann später eine schönere Ausgabe mit Wurzeln gemacht werden):"
   ]
  },
  {
   "cell_type": "code",
   "execution_count": 22,
   "id": "b044bc84-ad0d-4021-89b8-0764fe2b3bbc",
   "metadata": {},
   "outputs": [
    {
     "data": {
      "text/latex": [
       "$\\displaystyle \\left[\\begin{matrix}4 & -1 & -2\\\\-1 & 3 & -1\\\\-2 & -1 & 4\\end{matrix}\\right]$"
      ],
      "text/plain": [
       "Matrix([\n",
       "[ 4, -1, -2],\n",
       "[-1,  3, -1],\n",
       "[-2, -1,  4]])"
      ]
     },
     "execution_count": 22,
     "metadata": {},
     "output_type": "execute_result"
    }
   ],
   "source": [
    "A = sp.Matrix([[ 4, -1, -2], [-1,  3, -1], [-2, -1,  4]])\n",
    "A"
   ]
  },
  {
   "cell_type": "markdown",
   "id": "cc891b99-9828-4616-af6e-06b41a42e935",
   "metadata": {},
   "source": [
    "Eigenwerte bestimmen:"
   ]
  },
  {
   "cell_type": "code",
   "execution_count": 24,
   "id": "9dfb9906-bf53-4084-aced-116940c46bca",
   "metadata": {},
   "outputs": [
    {
     "data": {
      "text/plain": [
       "{6: 1, 4: 1, 1: 1}"
      ]
     },
     "execution_count": 24,
     "metadata": {},
     "output_type": "execute_result"
    }
   ],
   "source": [
    "ew = A.eigenvals()\n",
    "ew"
   ]
  },
  {
   "cell_type": "markdown",
   "id": "0f3a4931-ed52-4dc7-b222-da4afe4d37fe",
   "metadata": {},
   "source": [
    "Nur positive Eigenwerte, die quadratische Form ist damit sicher positiv definit."
   ]
  },
  {
   "cell_type": "markdown",
   "id": "c1e83cc9-4799-431e-8a9d-46781259aa1a",
   "metadata": {},
   "source": [
    "Eigenvektoren bestimmen (und gleich normieren):"
   ]
  },
  {
   "cell_type": "code",
   "execution_count": 28,
   "id": "ceb0879f-2665-44cb-95cd-d875eb38337c",
   "metadata": {},
   "outputs": [],
   "source": [
    "v1 = A.eigenvects()[0][2][0]\n",
    "v2 = A.eigenvects()[1][2][0]\n",
    "v3 = A.eigenvects()[2][2][0]"
   ]
  },
  {
   "cell_type": "code",
   "execution_count": 36,
   "id": "cf27a207-c6e3-4f57-8c81-b61b745c901f",
   "metadata": {},
   "outputs": [
    {
     "data": {
      "text/latex": [
       "$\\displaystyle \\left[\\begin{matrix}\\frac{\\sqrt{3}}{3}\\\\\\frac{\\sqrt{3}}{3}\\\\\\frac{\\sqrt{3}}{3}\\end{matrix}\\right]$"
      ],
      "text/plain": [
       "Matrix([\n",
       "[sqrt(3)/3],\n",
       "[sqrt(3)/3],\n",
       "[sqrt(3)/3]])"
      ]
     },
     "execution_count": 36,
     "metadata": {},
     "output_type": "execute_result"
    }
   ],
   "source": [
    "v1 / v1.norm()"
   ]
  },
  {
   "cell_type": "code",
   "execution_count": 37,
   "id": "82d52699-f9cf-4cc2-8893-045704970f39",
   "metadata": {},
   "outputs": [
    {
     "data": {
      "text/latex": [
       "$\\displaystyle \\left[\\begin{matrix}\\frac{\\sqrt{6}}{6}\\\\- \\frac{\\sqrt{6}}{3}\\\\\\frac{\\sqrt{6}}{6}\\end{matrix}\\right]$"
      ],
      "text/plain": [
       "Matrix([\n",
       "[ sqrt(6)/6],\n",
       "[-sqrt(6)/3],\n",
       "[ sqrt(6)/6]])"
      ]
     },
     "execution_count": 37,
     "metadata": {},
     "output_type": "execute_result"
    }
   ],
   "source": [
    "v2 / v2.norm()"
   ]
  },
  {
   "cell_type": "code",
   "execution_count": 38,
   "id": "075760bf-c460-4bb8-b140-b3798ba4e0ab",
   "metadata": {},
   "outputs": [
    {
     "data": {
      "text/latex": [
       "$\\displaystyle \\left[\\begin{matrix}- \\frac{\\sqrt{2}}{2}\\\\0\\\\\\frac{\\sqrt{2}}{2}\\end{matrix}\\right]$"
      ],
      "text/plain": [
       "Matrix([\n",
       "[-sqrt(2)/2],\n",
       "[         0],\n",
       "[ sqrt(2)/2]])"
      ]
     },
     "execution_count": 38,
     "metadata": {},
     "output_type": "execute_result"
    }
   ],
   "source": [
    "v3 / v3.norm()"
   ]
  },
  {
   "cell_type": "markdown",
   "id": "e6f8cf19-e30a-4335-b2a1-0c15ddab2812",
   "metadata": {},
   "source": [
    "## Aufgabe 6"
   ]
  },
  {
   "cell_type": "markdown",
   "id": "13e7f073-6e57-474b-afb5-14d0f5c0f853",
   "metadata": {},
   "source": [
    "Matrix definieren:"
   ]
  },
  {
   "cell_type": "code",
   "execution_count": 46,
   "id": "678b4e61-394e-44d7-8218-0559e24e01b0",
   "metadata": {},
   "outputs": [
    {
     "data": {
      "text/plain": [
       "array([[4, 2],\n",
       "       [2, 2]])"
      ]
     },
     "execution_count": 46,
     "metadata": {},
     "output_type": "execute_result"
    }
   ],
   "source": [
    "A = np.array([[4,2],[2,2]])\n",
    "A"
   ]
  },
  {
   "cell_type": "markdown",
   "id": "4861e763-de42-4b97-857e-7766cdbd6118",
   "metadata": {},
   "source": [
    "Cholesky-Zerlegung berechnen: Achtung die Funktion `np.linalg.cholesky()` gibt eine Zerlegung in der Form $A = B B^T$ zurück:"
   ]
  },
  {
   "cell_type": "code",
   "execution_count": 50,
   "id": "d4855d7a-e122-492e-9f14-bbcaeefc9ba3",
   "metadata": {},
   "outputs": [
    {
     "data": {
      "text/plain": [
       "array([[2., 1.],\n",
       "       [0., 1.]])"
      ]
     },
     "execution_count": 50,
     "metadata": {},
     "output_type": "execute_result"
    }
   ],
   "source": [
    "B = np.linalg.cholesky(A).T\n",
    "B"
   ]
  },
  {
   "cell_type": "code",
   "execution_count": 51,
   "id": "159cc3d2-bf84-4a9f-ae4e-49d91f714110",
   "metadata": {},
   "outputs": [
    {
     "data": {
      "text/plain": [
       "array([[4., 2.],\n",
       "       [2., 2.]])"
      ]
     },
     "execution_count": 51,
     "metadata": {},
     "output_type": "execute_result"
    }
   ],
   "source": [
    "B.T.dot(B)"
   ]
  },
  {
   "cell_type": "markdown",
   "id": "af97555b-3137-48f5-a074-3a7492800113",
   "metadata": {},
   "source": [
    "funktioniert!"
   ]
  },
  {
   "cell_type": "markdown",
   "id": "7a3f34e4-4dad-4c27-ba3c-54e97450234f",
   "metadata": {},
   "source": [
    "Inverse von $B$ zum ablesen der Basis:"
   ]
  },
  {
   "cell_type": "code",
   "execution_count": 57,
   "id": "b79fa6cd-6117-4243-9377-88e9f2746c33",
   "metadata": {},
   "outputs": [
    {
     "data": {
      "text/plain": [
       "array([[ 0.5, -0.5],\n",
       "       [ 0. ,  1. ]])"
      ]
     },
     "execution_count": 57,
     "metadata": {},
     "output_type": "execute_result"
    }
   ],
   "source": [
    "Binv = np.linalg.inv(B)\n",
    "Binv"
   ]
  },
  {
   "cell_type": "markdown",
   "id": "73187122-1368-479c-8f79-b8e71a20e858",
   "metadata": {},
   "source": [
    "Optional: Nachprüfen, dass die gefundene Basis gerade eine ONB ist:"
   ]
  },
  {
   "cell_type": "code",
   "execution_count": 58,
   "id": "88206cea-dd55-4dce-9a2f-de1666cf0d57",
   "metadata": {},
   "outputs": [],
   "source": [
    "v1 = Binv[:,0].reshape(-1,1)\n",
    "v2 = Binv[:,1].reshape(-1,1)"
   ]
  },
  {
   "cell_type": "code",
   "execution_count": 59,
   "id": "b18d3c53-4b46-42aa-a6ba-d25e54fdc1de",
   "metadata": {},
   "outputs": [
    {
     "data": {
      "text/plain": [
       "array([[0.5],\n",
       "       [0. ]])"
      ]
     },
     "execution_count": 59,
     "metadata": {},
     "output_type": "execute_result"
    }
   ],
   "source": [
    "v1"
   ]
  },
  {
   "cell_type": "code",
   "execution_count": 60,
   "id": "8ef5ca13-83b7-43f4-a486-1261fde55491",
   "metadata": {},
   "outputs": [
    {
     "data": {
      "text/plain": [
       "array([[1.]])"
      ]
     },
     "execution_count": 60,
     "metadata": {},
     "output_type": "execute_result"
    }
   ],
   "source": [
    "v1.T @ A @ v1"
   ]
  },
  {
   "cell_type": "code",
   "execution_count": 61,
   "id": "003d3bcc-92c2-48a5-929d-1509c8dcb77a",
   "metadata": {},
   "outputs": [
    {
     "data": {
      "text/plain": [
       "array([[1.]])"
      ]
     },
     "execution_count": 61,
     "metadata": {},
     "output_type": "execute_result"
    }
   ],
   "source": [
    "v2.T @ A @ v2"
   ]
  },
  {
   "cell_type": "code",
   "execution_count": 62,
   "id": "b9ec8edb-fda9-4803-8890-64eae9c95a89",
   "metadata": {},
   "outputs": [
    {
     "data": {
      "text/plain": [
       "array([[0.]])"
      ]
     },
     "execution_count": 62,
     "metadata": {},
     "output_type": "execute_result"
    }
   ],
   "source": [
    "v1.T @ A @ v2"
   ]
  },
  {
   "cell_type": "markdown",
   "id": "4d28ec40-4cdc-4a82-b57c-a5ff0f56dd29",
   "metadata": {},
   "source": [
    "## Aufgabe 10"
   ]
  },
  {
   "cell_type": "markdown",
   "id": "ccddcac5-5982-4a95-81e2-58bda6697022",
   "metadata": {},
   "source": [
    "Daten generieren:"
   ]
  },
  {
   "cell_type": "code",
   "execution_count": 64,
   "id": "24921407-1bf4-40fc-b53d-dff48f1c78a1",
   "metadata": {},
   "outputs": [
    {
     "data": {
      "text/plain": [
       "((100, 2), (100,))"
      ]
     },
     "execution_count": 64,
     "metadata": {},
     "output_type": "execute_result"
    }
   ],
   "source": [
    "from sklearn.datasets import make_circles\n",
    "X, y = make_circles(n_samples=100, factor=0.2, noise=0.05, random_state=0)\n",
    "X.shape, y.shape"
   ]
  },
  {
   "cell_type": "markdown",
   "id": "ea1707a6-aac0-4153-889d-c9adb755d357",
   "metadata": {},
   "source": [
    "Visualisieren:"
   ]
  },
  {
   "cell_type": "code",
   "execution_count": 65,
   "id": "bc55a659-9e63-4103-8bd1-4d3f510ff3af",
   "metadata": {},
   "outputs": [
    {
     "data": {
      "text/plain": [
       "<matplotlib.collections.PathCollection at 0x7f9c086cdb40>"
      ]
     },
     "execution_count": 65,
     "metadata": {},
     "output_type": "execute_result"
    },
    {
     "data": {
      "image/png": "[encoded data removed]",
      "text/plain": [
       "<Figure size 640x480 with 1 Axes>"
      ]
     },
     "metadata": {},
     "output_type": "display_data"
    }
   ],
   "source": [
    "plt.scatter(X[:,0], X[:,1], c=y)"
   ]
  },
  {
   "cell_type": "markdown",
   "id": "67464355-9cc0-46db-8768-f2673f2b5979",
   "metadata": {},
   "source": [
    "Es gibt keine Gerade, die die Daten gut in zwei Klassen separieren kann."
   ]
  },
  {
   "cell_type": "markdown",
   "id": "bc21a452-1903-408c-b974-ac78d0da4cd0",
   "metadata": {},
   "source": [
    "Basistransformation:"
   ]
  },
  {
   "cell_type": "code",
   "execution_count": 72,
   "id": "14baa8c0-141c-4442-896b-8b96522999fe",
   "metadata": {},
   "outputs": [
    {
     "data": {
      "text/plain": [
       "(100, 3)"
      ]
     },
     "execution_count": 72,
     "metadata": {},
     "output_type": "execute_result"
    }
   ],
   "source": [
    "R = np.sqrt( np.sum( X**2, axis=1 ) )\n",
    "X2 = np.hstack( [X, R.reshape(-1,1)] )\n",
    "X2.shape"
   ]
  },
  {
   "cell_type": "markdown",
   "id": "159bc1fd-fc62-432c-9270-72d409e005a1",
   "metadata": {},
   "source": [
    "Visualisierung:"
   ]
  },
  {
   "cell_type": "code",
   "execution_count": 73,
   "id": "761d2a3b-6941-4e95-8f0a-f4e1172c9c2c",
   "metadata": {},
   "outputs": [
    {
     "data": {
      "image/png": "[encoded data removed]",
      "text/plain": [
       "<Figure size 640x480 with 1 Axes>"
      ]
     },
     "metadata": {},
     "output_type": "display_data"
    }
   ],
   "source": [
    "fig = plt.figure()\n",
    "ax = fig.add_subplot(projection='3d')\n",
    "ax.scatter(X2[:,0], X2[:,1], X2[:,2], c=y, cmap='viridis', linewidth=0.5);"
   ]
  },
  {
   "cell_type": "markdown",
   "id": "e7d7cae8-468a-4261-ab18-874ed355c5e3",
   "metadata": {},
   "source": [
    "Die beiden Klassen können jetzt mit einer Ebene separiert werden!"
   ]
  }
 ],
 "metadata": {
  "kernelspec": {
   "display_name": "Python3",
   "language": "python",
   "name": "python3"
  },
  "language_info": {
   "codemirror_mode": {
    "name": "ipython",
    "version": 3
   },
   "file_extension": ".py",
   "mimetype": "text/x-python",
   "name": "python",
   "nbconvert_exporter": "python",
   "pygments_lexer": "ipython3",
   "version": "3.10.13"
  }
 },
 "nbformat": 4,
 "nbformat_minor": 5
}
