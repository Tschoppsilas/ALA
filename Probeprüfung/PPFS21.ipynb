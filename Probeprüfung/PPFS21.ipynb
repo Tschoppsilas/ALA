{
 "cells": [
  {
   "cell_type": "code",
   "id": "initial_id",
   "metadata": {
    "collapsed": true,
    "ExecuteTime": {
     "end_time": "2024-07-03T13:13:56.735425Z",
     "start_time": "2024-07-03T13:13:56.610882Z"
    }
   },
   "source": "import numpy as np",
   "outputs": [],
   "execution_count": 1
  },
  {
   "metadata": {},
   "cell_type": "markdown",
   "source": "Erstellen der Matrizen",
   "id": "cb8da8b1900a3c7"
  },
  {
   "metadata": {
    "ExecuteTime": {
     "end_time": "2024-07-03T13:30:29.056928Z",
     "start_time": "2024-07-03T13:30:29.048903Z"
    }
   },
   "cell_type": "code",
   "source": [
    "A = np.array([[-7,4,4],[4,-1,8],[4,8,-1]])\n",
    "A = 1/9*A\n",
    "print(A)\n",
    "B = np.array([[1,0,-1],[0,4,-3],[-1,-3,20]])"
   ],
   "id": "6d57da5a30f38964",
   "outputs": [
    {
     "name": "stdout",
     "output_type": "stream",
     "text": [
      "[[-0.77777778  0.44444444  0.44444444]\n",
      " [ 0.44444444 -0.11111111  0.88888889]\n",
      " [ 0.44444444  0.88888889 -0.11111111]]\n"
     ]
    }
   ],
   "execution_count": 28
  },
  {
   "metadata": {
    "ExecuteTime": {
     "end_time": "2024-07-03T13:21:55.511945Z",
     "start_time": "2024-07-03T13:21:55.501801Z"
    }
   },
   "cell_type": "code",
   "source": [
    "def kappa(A):\n",
    "    eig_max = max(abs((np.linalg.eigvals(A))))\n",
    "    eig_min = min(abs((np.linalg.eigvals(A))))\n",
    "    return eig_max/eig_min\n",
    "print(\" kappa A= \\n\",kappa(A))\n",
    "print(\" kappa B= \\n\",kappa(B))\n"
   ],
   "id": "182b51a21be29553",
   "outputs": [
    {
     "name": "stdout",
     "output_type": "stream",
     "text": [
      " kappa A= \n",
      " 1.0000000000000002\n",
      " kappa B= \n",
      " 21.95516850022577\n"
     ]
    }
   ],
   "execution_count": 18
  },
  {
   "metadata": {
    "ExecuteTime": {
     "end_time": "2024-07-03T13:29:51.229918Z",
     "start_time": "2024-07-03T13:29:51.223725Z"
    }
   },
   "cell_type": "code",
   "source": [
    "print( A @ A.T)\n",
    "print(B @ B.T)"
   ],
   "id": "3aa78d61599a6024",
   "outputs": [
    {
     "name": "stdout",
     "output_type": "stream",
     "text": [
      "[[1.00000000e+00 3.35808199e-17 3.74357609e-17]\n",
      " [3.35808199e-17 1.00000000e+00 5.48258284e-18]\n",
      " [3.74357609e-17 5.48258284e-18 1.00000000e+00]]\n",
      "[[  2   3 -21]\n",
      " [  3  25 -72]\n",
      " [-21 -72 410]]\n"
     ]
    }
   ],
   "execution_count": 27
  },
  {
   "metadata": {
    "ExecuteTime": {
     "end_time": "2024-07-03T13:34:12.468083Z",
     "start_time": "2024-07-03T13:34:12.461486Z"
    }
   },
   "cell_type": "code",
   "source": "A = np.array([[-19,9,0,0],[-12,5,0,0],[0,0,6,-2]])",
   "id": "f075359c16c95baa",
   "outputs": [],
   "execution_count": 29
  },
  {
   "metadata": {
    "ExecuteTime": {
     "end_time": "2024-07-03T13:38:17.473193Z",
     "start_time": "2024-07-03T13:38:17.465129Z"
    }
   },
   "cell_type": "code",
   "source": [
    "U, S, VT= np.linalg.svd(A)\n",
    "sigma1 = S[0]\n",
    "u1 = U[:, 0]\n",
    "v1 = VT[0, :]\n",
    "\n",
    "A_approx = np.outer(u1, sigma1 * v1)\n",
    "\n",
    "print(A_approx)"
   ],
   "id": "d04b412e13db9540",
   "outputs": [
    {
     "name": "stdout",
     "output_type": "stream",
     "text": [
      "[[-19.1150923    8.74852916   0.           0.        ]\n",
      " [-11.81377674   5.40688837   0.           0.        ]\n",
      " [ -0.           0.           0.           0.        ]]\n"
     ]
    }
   ],
   "execution_count": 36
  }
 ],
 "metadata": {
  "kernelspec": {
   "display_name": "Python 3",
   "language": "python",
   "name": "python3"
  },
  "language_info": {
   "codemirror_mode": {
    "name": "ipython",
    "version": 2
   },
   "file_extension": ".py",
   "mimetype": "text/x-python",
   "name": "python",
   "nbconvert_exporter": "python",
   "pygments_lexer": "ipython2",
   "version": "2.7.6"
  }
 },
 "nbformat": 4,
 "nbformat_minor": 5
}
