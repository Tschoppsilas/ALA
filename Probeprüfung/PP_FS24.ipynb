{
 "cells": [
  {
   "cell_type": "code",
   "id": "initial_id",
   "metadata": {
    "collapsed": true,
    "ExecuteTime": {
     "end_time": "2024-07-03T11:31:48.035304Z",
     "start_time": "2024-07-03T11:31:44.764363Z"
    }
   },
   "source": [
    "import numpy as np\n",
    "import matplotlib.pyplot as plt"
   ],
   "outputs": [],
   "execution_count": 1
  },
  {
   "metadata": {},
   "cell_type": "markdown",
   "source": "Anlegen einer Matrix",
   "id": "8f4a16d222b9726a"
  },
  {
   "metadata": {
    "ExecuteTime": {
     "end_time": "2024-07-03T12:21:18.620842Z",
     "start_time": "2024-07-03T12:21:18.614580Z"
    }
   },
   "cell_type": "code",
   "source": [
    "A = np.array([[2,4],[-1,3],[0,-2]])\n",
    "print(A)"
   ],
   "id": "7825fc1b76511041",
   "outputs": [
    {
     "name": "stdout",
     "output_type": "stream",
     "text": [
      "[[ 2  4]\n",
      " [-1  3]\n",
      " [ 0 -2]]\n"
     ]
    }
   ],
   "execution_count": 73
  },
  {
   "metadata": {},
   "cell_type": "markdown",
   "source": "Singulärwert anzeigen",
   "id": "c973dcff8e0a5873"
  },
  {
   "metadata": {
    "ExecuteTime": {
     "end_time": "2024-07-03T12:21:20.098943Z",
     "start_time": "2024-07-03T12:21:20.093690Z"
    }
   },
   "cell_type": "code",
   "source": [
    "U, sigma, VT= np.linalg.svd(A)\n",
    "print(sigma) #Singulärwerte"
   ],
   "id": "43e65a1a13cf5c7f",
   "outputs": [
    {
     "name": "stdout",
     "output_type": "stream",
     "text": [
      "[5.47722558 2.        ]\n"
     ]
    }
   ],
   "execution_count": 74
  },
  {
   "metadata": {},
   "cell_type": "markdown",
   "source": "Sigma wird zu der Diagonal Matrix",
   "id": "d79ef3c0ad2b7204"
  },
  {
   "metadata": {
    "ExecuteTime": {
     "end_time": "2024-07-03T12:21:38.066970Z",
     "start_time": "2024-07-03T12:21:38.060368Z"
    }
   },
   "cell_type": "code",
   "source": [
    "sigma = np.diag(sigma)\n",
    "sigma"
   ],
   "id": "390fc45713fbd780",
   "outputs": [
    {
     "data": {
      "text/plain": [
       "array([5.47722558, 2.        ])"
      ]
     },
     "execution_count": 81,
     "metadata": {},
     "output_type": "execute_result"
    }
   ],
   "execution_count": 81
  },
  {
   "metadata": {},
   "cell_type": "markdown",
   "source": [
    "Pseudo inverse\n",
    "\n",
    "1. Sigma als Diagonalmatrix für Berechnung erstellen"
   ],
   "id": "183473e0f3429bca"
  },
  {
   "metadata": {
    "ExecuteTime": {
     "end_time": "2024-07-03T12:22:02.957074Z",
     "start_time": "2024-07-03T12:22:02.946071Z"
    }
   },
   "cell_type": "code",
   "source": [
    "# Diagonalmatrix S erstellen\n",
    "S = np.zeros(A.shape)\n",
    "S[0,0] = sigma[0] #erster Singulärwert\n",
    "S[1,1] = sigma[1]#zweiter Singulärwert\n",
    "#ersetze weiter, falls mehr als 2 Singulärwert\n",
    "S"
   ],
   "id": "d075249320bcd4f7",
   "outputs": [
    {
     "data": {
      "text/plain": [
       "array([[5.47722558, 0.        ],\n",
       "       [0.        , 2.        ],\n",
       "       [0.        , 0.        ]])"
      ]
     },
     "execution_count": 84,
     "metadata": {},
     "output_type": "execute_result"
    }
   ],
   "execution_count": 84
  },
  {
   "metadata": {},
   "cell_type": "markdown",
   "source": "2. Prüfen ob Ursprüngliche A heraus kommt. (Werte runden)",
   "id": "b4a3308cb79e353"
  },
  {
   "metadata": {
    "ExecuteTime": {
     "end_time": "2024-07-03T12:21:34.309262Z",
     "start_time": "2024-07-03T12:21:34.302088Z"
    }
   },
   "cell_type": "code",
   "source": "U@S@VT",
   "id": "9ae972ed74a856ed",
   "outputs": [
    {
     "data": {
      "text/plain": [
       "array([[ 2.00000000e+00,  4.00000000e+00],\n",
       "       [-1.00000000e+00,  3.00000000e+00],\n",
       "       [-5.55111512e-17, -2.00000000e+00]])"
      ]
     },
     "execution_count": 80,
     "metadata": {},
     "output_type": "execute_result"
    }
   ],
   "execution_count": 80
  },
  {
   "metadata": {},
   "cell_type": "markdown",
   "source": "3. wobei Σ + aus dem transponierten Σ besteht, in dem von allen von Null verschiedenen Werten der Kehrwert berechnet wurde. (Σ + berechnen)",
   "id": "624d4cbd4ec68be"
  },
  {
   "metadata": {
    "ExecuteTime": {
     "end_time": "2024-07-03T12:22:07.684810Z",
     "start_time": "2024-07-03T12:22:07.675946Z"
    }
   },
   "cell_type": "code",
   "source": [
    "S_P = np.zeros(A.T.shape) #Weil A plus eine nxm ist und A eine mxn\n",
    "S_P[0,0] = 1/sigma[0] #Kehrwert der von Null verschiedenen Werten\n",
    "S_P[1,1] = 1/sigma[1]\n",
    "S_P"
   ],
   "id": "8bdda42dd0a81bee",
   "outputs": [
    {
     "data": {
      "text/plain": [
       "array([[0.18257419, 0.        , 0.        ],\n",
       "       [0.        , 0.5       , 0.        ]])"
      ]
     },
     "execution_count": 85,
     "metadata": {},
     "output_type": "execute_result"
    }
   ],
   "execution_count": 85
  },
  {
   "metadata": {},
   "cell_type": "markdown",
   "source": "4. A+ berechnen.",
   "id": "73ccb84ab65e388c"
  },
  {
   "metadata": {
    "ExecuteTime": {
     "end_time": "2024-07-03T12:23:49.536474Z",
     "start_time": "2024-07-03T12:23:49.528229Z"
    }
   },
   "cell_type": "code",
   "source": [
    "A_P = VT.T@S_P@U.T #VT und U müssen Transponiert werden da in der Formel U und V die Rollen tauschen\n",
    "A_P"
   ],
   "id": "9755d4ec74aca908",
   "outputs": [
    {
     "data": {
      "text/plain": [
       "array([[ 0.31666667, -0.36666667,  0.08333333],\n",
       "       [ 0.08333333,  0.16666667, -0.08333333]])"
      ]
     },
     "execution_count": 88,
     "metadata": {},
     "output_type": "execute_result"
    }
   ],
   "execution_count": 88
  },
  {
   "metadata": {},
   "cell_type": "markdown",
   "source": "Matrix * Matrix",
   "id": "7884776feda52cd0"
  },
  {
   "metadata": {
    "ExecuteTime": {
     "end_time": "2024-07-03T12:40:30.121730Z",
     "start_time": "2024-07-03T12:40:30.113874Z"
    }
   },
   "cell_type": "code",
   "source": [
    "APA = A_P@A\n",
    "AAP = A@A_P\n",
    "print(\"APA \\n\", APA)\n",
    "print(\"AAP \\n\", AAP)"
   ],
   "id": "8bbf100a08d7e8c5",
   "outputs": [
    {
     "name": "stdout",
     "output_type": "stream",
     "text": [
      "APA \n",
      " [[ 1.00000000e+00 -6.10622664e-16]\n",
      " [-5.55111512e-17  1.00000000e+00]]\n",
      "AAP \n",
      " [[ 0.96666667 -0.06666667 -0.16666667]\n",
      " [-0.06666667  0.86666667 -0.33333333]\n",
      " [-0.16666667 -0.33333333  0.16666667]]\n"
     ]
    }
   ],
   "execution_count": 93
  },
  {
   "metadata": {},
   "cell_type": "markdown",
   "source": [
    "singuläres Gleichungssystem:\n",
    "\n",
    "    3x+4y = 1\n",
    "    3x-y  = 2\n",
    "    2x    = 3\n",
    "    \n",
    "Berechne mit Hilfe der Pseudoinversen A+ die Näherungslösung des Systems"
   ],
   "id": "6d96de4a9e10692e"
  },
  {
   "metadata": {
    "ExecuteTime": {
     "end_time": "2024-07-03T12:50:42.331214Z",
     "start_time": "2024-07-03T12:50:42.323394Z"
    }
   },
   "cell_type": "code",
   "source": [
    "y = np.array([[1],[2],[3]])\n",
    "lsg = A_P@y\n",
    "lsg"
   ],
   "id": "a0ef8e954ea4c0d6",
   "outputs": [
    {
     "data": {
      "text/plain": [
       "array([[-0.16666667],\n",
       "       [ 0.16666667]])"
      ]
     },
     "execution_count": 98,
     "metadata": {},
     "output_type": "execute_result"
    }
   ],
   "execution_count": 98
  },
  {
   "metadata": {},
   "cell_type": "markdown",
   "source": [
    "Vergleichen Sie die Lösung der letzten Teilaufgabe mit der Näherungslösung welche Sie mit\n",
    "der Normalengleichung erhalten"
   ],
   "id": "5f997a63ae71180"
  },
  {
   "metadata": {
    "ExecuteTime": {
     "end_time": "2024-07-03T12:52:59.559685Z",
     "start_time": "2024-07-03T12:52:59.548573Z"
    }
   },
   "cell_type": "code",
   "source": [
    "lsg2 = np.linalg.inv(A.T@A)@A.T@y\n",
    "lsg2"
   ],
   "id": "e79b93e82990924e",
   "outputs": [
    {
     "data": {
      "text/plain": [
       "array([[-0.16666667],\n",
       "       [ 0.16666667]])"
      ]
     },
     "execution_count": 99,
     "metadata": {},
     "output_type": "execute_result"
    }
   ],
   "execution_count": 99
  },
  {
   "metadata": {},
   "cell_type": "markdown",
   "source": [
    "Sie haben gesehen, dass sich die quadratische Form als q(x) = x T Ax mit A ∈ R 4×4 und\n",
    "A T = A darstellen lässt. Bestimmen Sie A."
   ],
   "id": "aec35fcb6dbe041c"
  },
  {
   "metadata": {
    "ExecuteTime": {
     "end_time": "2024-07-03T12:59:28.076647Z",
     "start_time": "2024-07-03T12:59:28.068943Z"
    }
   },
   "cell_type": "code",
   "source": [
    "A = np.array([[3,0,0,-1],[0,3,-1,0],[0,-1,3,0],[-1,0,0,3]])\n",
    "print(A)"
   ],
   "id": "832e6e879706b8b4",
   "outputs": [
    {
     "name": "stdout",
     "output_type": "stream",
     "text": [
      "[[ 3  0  0 -1]\n",
      " [ 0  3 -1  0]\n",
      " [ 0 -1  3  0]\n",
      " [-1  0  0  3]]\n"
     ]
    }
   ],
   "execution_count": 103
  },
  {
   "metadata": {},
   "cell_type": "markdown",
   "source": "Wie lautet die Basis B, in der die Mischterme verschwinden? Geben Sie die quadratische Form in dieser Basis an (der Vektor x werde dabei in den Vektor y transformiert).",
   "id": "f7424f2c19d6e58a"
  },
  {
   "metadata": {
    "ExecuteTime": {
     "end_time": "2024-07-03T13:06:36.553974Z",
     "start_time": "2024-07-03T13:06:36.547288Z"
    }
   },
   "cell_type": "code",
   "source": "lamb, V = np.linalg.eig(A)",
   "id": "8fab270c7bffec45",
   "outputs": [
    {
     "data": {
      "text/plain": [
       "array([[ 0.70710678,  0.70710678,  0.        ,  0.        ],\n",
       "       [ 0.        ,  0.        , -0.70710678,  0.70710678],\n",
       "       [ 0.        ,  0.        ,  0.70710678,  0.70710678],\n",
       "       [-0.70710678,  0.70710678,  0.        ,  0.        ]])"
      ]
     },
     "execution_count": 107,
     "metadata": {},
     "output_type": "execute_result"
    }
   ],
   "execution_count": 107
  },
  {
   "metadata": {
    "ExecuteTime": {
     "end_time": "2024-07-03T13:07:06.135411Z",
     "start_time": "2024-07-03T13:07:06.128167Z"
    }
   },
   "cell_type": "code",
   "source": "lamb#sind die Eigenwerte und können direkt in die quadratische Form mit dem jeweiligen yn^2 geschrieben werden",
   "id": "5bf19a80a705353c",
   "outputs": [
    {
     "data": {
      "text/plain": [
       "array([4., 2., 4., 2.])"
      ]
     },
     "execution_count": 108,
     "metadata": {},
     "output_type": "execute_result"
    }
   ],
   "execution_count": 108
  },
  {
   "metadata": {
    "ExecuteTime": {
     "end_time": "2024-07-03T13:08:35.699536Z",
     "start_time": "2024-07-03T13:08:35.692371Z"
    }
   },
   "cell_type": "code",
   "source": "V #ist in diesemfall die Basis B",
   "id": "bac956013247f2b8",
   "outputs": [
    {
     "data": {
      "text/plain": [
       "array([[ 0.70710678,  0.70710678,  0.        ,  0.        ],\n",
       "       [ 0.        ,  0.        , -0.70710678,  0.70710678],\n",
       "       [ 0.        ,  0.        ,  0.70710678,  0.70710678],\n",
       "       [-0.70710678,  0.70710678,  0.        ,  0.        ]])"
      ]
     },
     "execution_count": 109,
     "metadata": {},
     "output_type": "execute_result"
    }
   ],
   "execution_count": 109
  }
 ],
 "metadata": {
  "kernelspec": {
   "display_name": "Python 3",
   "language": "python",
   "name": "python3"
  },
  "language_info": {
   "codemirror_mode": {
    "name": "ipython",
    "version": 2
   },
   "file_extension": ".py",
   "mimetype": "text/x-python",
   "name": "python",
   "nbconvert_exporter": "python",
   "pygments_lexer": "ipython2",
   "version": "2.7.6"
  }
 },
 "nbformat": 4,
 "nbformat_minor": 5
}
