{
 "cells": [
  {
   "metadata": {},
   "cell_type": "markdown",
   "source": "Import der Bibliotheken",
   "id": "c8491c8c096ec53b"
  },
  {
   "metadata": {
    "ExecuteTime": {
     "end_time": "2024-05-18T08:54:34.621184Z",
     "start_time": "2024-05-18T08:54:33.216924Z"
    }
   },
   "cell_type": "code",
   "source": [
    "import pandas as pd\n",
    "import numpy as np\n",
    "import matplotlib.pyplot "
   ],
   "id": "2da5657a18334a90",
   "outputs": [],
   "execution_count": 1
  },
  {
   "cell_type": "code",
   "id": "initial_id",
   "metadata": {
    "collapsed": true,
    "ExecuteTime": {
     "end_time": "2024-05-18T09:06:04.602757Z",
     "start_time": "2024-05-18T09:06:04.596151Z"
    }
   },
   "source": [
    "def positiv_definit(A):\n",
    "    Eigenwerte = np.linalg.eigvals(A)\n",
    "    return np.all(Eigenwerte > 0)"
   ],
   "outputs": [],
   "execution_count": 18
  },
  {
   "metadata": {
    "ExecuteTime": {
     "end_time": "2024-05-18T09:21:13.380459Z",
     "start_time": "2024-05-18T09:21:13.365341Z"
    }
   },
   "cell_type": "code",
   "source": [
    "Matrix = np.array([[1/2,0],[0,1/2]])\n",
    "positiv_definit(Matrix)"
   ],
   "id": "983cace295e53f19",
   "outputs": [
    {
     "data": {
      "text/plain": [
       "True"
      ]
     },
     "execution_count": 20,
     "metadata": {},
     "output_type": "execute_result"
    }
   ],
   "execution_count": 20
  }
 ],
 "metadata": {
  "kernelspec": {
   "display_name": "Python 3",
   "language": "python",
   "name": "python3"
  },
  "language_info": {
   "codemirror_mode": {
    "name": "ipython",
    "version": 2
   },
   "file_extension": ".py",
   "mimetype": "text/x-python",
   "name": "python",
   "nbconvert_exporter": "python",
   "pygments_lexer": "ipython2",
   "version": "2.7.6"
  }
 },
 "nbformat": 4,
 "nbformat_minor": 5
}
